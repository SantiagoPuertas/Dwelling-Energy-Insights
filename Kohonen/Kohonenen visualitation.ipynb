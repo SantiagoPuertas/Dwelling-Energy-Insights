{
 "cells": [
  {
   "cell_type": "code",
   "execution_count": 1,
   "metadata": {},
   "outputs": [],
   "source": [
    "activ_map = [[2.,1.,1.,2.,1.,0.,1.,0.,1.,1.],[0.,0.,0.,0.,0.,0.,0.,0.,0.,0.],[1.,0.,0.,1.,0.,0.,0.,0.,0.,0.],[1.,0.,0.,0.,1.,0.,0.,0.,0.,0.],[0.,0.,0.,2.,1.,0.,0.,1.,0.,0.],[2.,0.,0.,0.,0.,0.,0.,0.,0.,1.],[0.,0.,0.,0.,0.,1.,0.,0.,0.,1.],[0.,0.,0.,0.,0.,0.,0.,0.,0.,0.],[0.,0.,0.,0.,0.,0.,0.,0.,0.,0.],[2.,0.,1.,0.,0.,1.,0.,0.,0.,1.]]"
   ]
  },
  {
   "cell_type": "code",
   "execution_count": 2,
   "metadata": {},
   "outputs": [],
   "source": [
    "class_map = [[1,1,1,1,2,0,3,0,3,3],[0,0,0,0,0,0,0,0,0,0],[1,0,0,1,0,0,0,0,0,0],[1,0,0,0,1,0,0,0,0,0],[0,0,0,2,1,0,0,2,0,0],[1,0,0,0,0,0,0,0,0,2],[0,0,0,0,0,2,0,0,0,2],[0,0,0,0,0,0,0,0,0,0],[0,0,0,0,0,0,0,0,0,0],[2,0,2,0,0,3,0,0,0,3]]"
   ]
  },
  {
   "cell_type": "code",
   "execution_count": 3,
   "metadata": {},
   "outputs": [],
   "source": [
    "houses_map = [[[11,17],[15],[3],[4,23],[19],[],[22],[],[25],[20]],[[],[],[],[],[],[],[],[],[],[]],[[27],[],[],[33],[],[],[],[],[],[]],[[24],[],[],[],[31],[],[],[],[],[]],[[],[],[],[6,13],[26],[],[],[7],[],[]],[[16,18],[],[],[],[],[],[],[],[],[9]],[[],[],[],[],[],[1],[],[],[],[29]],[[],[],[],[],[],[],[],[],[],[]],[[],[],[],[],[],[],[],[],[],[]],[[8,21],[],[2],[],[],[32],[],[],[],[28]]]"
   ]
  },
  {
   "cell_type": "code",
   "execution_count": 4,
   "metadata": {},
   "outputs": [
    {
     "data": {
      "text/plain": [
       "<Figure size 1800x1200 with 1 Axes>"
      ]
     },
     "metadata": {},
     "output_type": "display_data"
    }
   ],
   "source": [
    "from mpl_toolkits.mplot3d import Axes3D\n",
    "import matplotlib.pyplot as plt\n",
    "import numpy as np\n",
    "\n",
    "dic = {0:'black', 1:'green', 2:'yellow', 3:'blue'}\n",
    "\n",
    "\n",
    "fig = plt.figure(figsize=(18,12))\n",
    "ax = fig.add_subplot(111, projection='3d')\n",
    "\n",
    "# plot colored 3d bars\n",
    "for i in range(10):  # cycle though y\n",
    "    for j in range(10):        \n",
    "        ax.bar3d(i, j, 0, 1, 1, activ_map[i][j], alpha=0.5, color=dic[class_map[i][j]])\n",
    "ax.view_init(azim=90)\n",
    "plt.show()"
   ]
  },
  {
   "cell_type": "code",
   "execution_count": 5,
   "metadata": {},
   "outputs": [
    {
     "data": {
      "application/vnd.jupyter.widget-view+json": {
       "model_id": "dc7aa07130e544838cfc831799bc2469",
       "version_major": 2,
       "version_minor": 0
      },
      "text/plain": [
       "interactive(children=(IntSlider(value=0, description='azimuth', max=360, step=10), IntSlider(value=0, descript…"
      ]
     },
     "metadata": {},
     "output_type": "display_data"
    },
    {
     "data": {
      "text/plain": [
       "<function __main__.handle_slider_change>"
      ]
     },
     "execution_count": 5,
     "metadata": {},
     "output_type": "execute_result"
    }
   ],
   "source": [
    "from ipywidgets import interact\n",
    "import ipywidgets as widgets\n",
    "def handle_slider_change(azimuth, elevation):\n",
    "    #print(change['new']['value'], type(change))\n",
    "    fig = plt.figure(figsize=(18,12))\n",
    "    ax = fig.add_subplot(111, projection='3d')\n",
    "\n",
    "    # plot colored 3d bars\n",
    "    for i in range(10):  # cycle though y\n",
    "        for j in range(10):    \n",
    "            ax.bar3d(i, j, 0, 1, 1, activ_map[i][j], alpha=0.9, color=dic[class_map[i][j]])\n",
    "    ax.view_init(azim=int(azimuth), elev = int(elevation))\n",
    "    plt.show()\n",
    "\n",
    "#create a slider\n",
    "interact(handle_slider_change, azimuth=widgets.IntSlider(min=0, max=360, step=10, value=0), elevation=widgets.IntSlider(min=0, max=360, step=10, value=0))"
   ]
  },
  {
   "cell_type": "code",
   "execution_count": null,
   "metadata": {},
   "outputs": [],
   "source": []
  }
 ],
 "metadata": {
  "kernelspec": {
   "display_name": "Python 3",
   "language": "python",
   "name": "python3"
  },
  "language_info": {
   "codemirror_mode": {
    "name": "ipython",
    "version": 3
   },
   "file_extension": ".py",
   "mimetype": "text/x-python",
   "name": "python",
   "nbconvert_exporter": "python",
   "pygments_lexer": "ipython3",
   "version": "3.6.8"
  }
 },
 "nbformat": 4,
 "nbformat_minor": 2
}
