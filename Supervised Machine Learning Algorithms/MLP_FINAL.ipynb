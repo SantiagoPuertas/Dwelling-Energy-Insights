{
 "cells": [
  {
   "cell_type": "code",
   "execution_count": 1,
   "metadata": {},
   "outputs": [
    {
     "name": "stdout",
     "output_type": "stream",
     "text": [
      "Once deleted, variables cannot be recovered. Proceed (y/[n])? y\n"
     ]
    },
    {
     "name": "stderr",
     "output_type": "stream",
     "text": [
      "/opt/jupyterhub/anaconda/lib/python3.6/site-packages/tensorflow/python/framework/dtypes.py:469: FutureWarning: Passing (type, 1) or '1type' as a synonym of type is deprecated; in a future version of numpy, it will be understood as (type, (1,)) / '(1,)type'.\n",
      "  _np_qint8 = np.dtype([(\"qint8\", np.int8, 1)])\n",
      "/opt/jupyterhub/anaconda/lib/python3.6/site-packages/tensorflow/python/framework/dtypes.py:470: FutureWarning: Passing (type, 1) or '1type' as a synonym of type is deprecated; in a future version of numpy, it will be understood as (type, (1,)) / '(1,)type'.\n",
      "  _np_quint8 = np.dtype([(\"quint8\", np.uint8, 1)])\n",
      "/opt/jupyterhub/anaconda/lib/python3.6/site-packages/tensorflow/python/framework/dtypes.py:471: FutureWarning: Passing (type, 1) or '1type' as a synonym of type is deprecated; in a future version of numpy, it will be understood as (type, (1,)) / '(1,)type'.\n",
      "  _np_qint16 = np.dtype([(\"qint16\", np.int16, 1)])\n",
      "/opt/jupyterhub/anaconda/lib/python3.6/site-packages/tensorflow/python/framework/dtypes.py:472: FutureWarning: Passing (type, 1) or '1type' as a synonym of type is deprecated; in a future version of numpy, it will be understood as (type, (1,)) / '(1,)type'.\n",
      "  _np_quint16 = np.dtype([(\"quint16\", np.uint16, 1)])\n",
      "/opt/jupyterhub/anaconda/lib/python3.6/site-packages/tensorflow/python/framework/dtypes.py:473: FutureWarning: Passing (type, 1) or '1type' as a synonym of type is deprecated; in a future version of numpy, it will be understood as (type, (1,)) / '(1,)type'.\n",
      "  _np_qint32 = np.dtype([(\"qint32\", np.int32, 1)])\n",
      "/opt/jupyterhub/anaconda/lib/python3.6/site-packages/tensorflow/python/framework/dtypes.py:476: FutureWarning: Passing (type, 1) or '1type' as a synonym of type is deprecated; in a future version of numpy, it will be understood as (type, (1,)) / '(1,)type'.\n",
      "  np_resource = np.dtype([(\"resource\", np.ubyte, 1)])\n",
      "Using TensorFlow backend.\n"
     ]
    }
   ],
   "source": [
    "%reset\n",
    "\n",
    "import numpy as np\n",
    "from sklearn import preprocessing\n",
    "import math\n",
    "from matplotlib import pyplot as plt\n",
    "from matplotlib import patches as patches\n",
    "import pandas as pd\n",
    "from numpy import *\n",
    "\n",
    "\n",
    "\n",
    "from sklearn import preprocessing\n",
    "\n",
    "\n",
    "\n",
    "\n",
    "import tensorflow as tf\n",
    "from tensorflow import keras\n",
    "import os\n",
    "import keras\n",
    "from keras.models import Sequential\n",
    "from keras.layers.core import Dense, Activation\n",
    "from sklearn.model_selection import train_test_split\n",
    "\n",
    "\n",
    "os.environ[\"CUDA_VISIBLE_DEVICES\"]='1'\n",
    "\n",
    "config = tf.ConfigProto()\n",
    "config.gpu_options.allow_growth=True\n",
    "sess = tf.Session(config=config)\n",
    "# do stuff\n",
    "\n",
    "\n",
    "%matplotlib inline"
   ]
  },
  {
   "cell_type": "code",
   "execution_count": 2,
   "metadata": {},
   "outputs": [],
   "source": [
    "# Import the data and making a dataframe out of it\n",
    "df_deli = pd.read_csv('../Emilio Caba/Data/Delivery.csv')\n",
    "df_cons = pd.read_csv('../Emilio Caba/Data/Consumption.csv')\n",
    "df_info = pd.read_csv('../Emilio Caba/Data/Information.csv')\n",
    "\n",
    "\n",
    "# Setting indexes\n",
    "df_deli.set_index('ID-nummer',inplace=True)\n",
    "df_deli.index = pd.to_datetime(df_deli.index)\n",
    "\n",
    "df_cons.set_index('ID-nummer',inplace=True)\n",
    "df_cons.index = pd.to_datetime(df_cons.index)\n",
    "\n",
    "df_info.set_index('ID-nummer',inplace=True)"
   ]
  },
  {
   "cell_type": "code",
   "execution_count": 3,
   "metadata": {},
   "outputs": [
    {
     "data": {
      "text/html": [
       "<div>\n",
       "<style scoped>\n",
       "    .dataframe tbody tr th:only-of-type {\n",
       "        vertical-align: middle;\n",
       "    }\n",
       "\n",
       "    .dataframe tbody tr th {\n",
       "        vertical-align: top;\n",
       "    }\n",
       "\n",
       "    .dataframe thead th {\n",
       "        text-align: right;\n",
       "    }\n",
       "</style>\n",
       "<table border=\"1\" class=\"dataframe\">\n",
       "  <thead>\n",
       "    <tr style=\"text-align: right;\">\n",
       "      <th></th>\n",
       "      <th>delivery</th>\n",
       "      <th>consumption</th>\n",
       "      <th>heating_sys</th>\n",
       "      <th>people</th>\n",
       "      <th>solar_panels</th>\n",
       "    </tr>\n",
       "  </thead>\n",
       "  <tbody>\n",
       "    <tr>\n",
       "      <td>0</td>\n",
       "      <td>0.0</td>\n",
       "      <td>0.031</td>\n",
       "      <td>1</td>\n",
       "      <td>4</td>\n",
       "      <td>17</td>\n",
       "    </tr>\n",
       "    <tr>\n",
       "      <td>1</td>\n",
       "      <td>0.0</td>\n",
       "      <td>0.037</td>\n",
       "      <td>1</td>\n",
       "      <td>4</td>\n",
       "      <td>17</td>\n",
       "    </tr>\n",
       "    <tr>\n",
       "      <td>2</td>\n",
       "      <td>0.0</td>\n",
       "      <td>0.034</td>\n",
       "      <td>1</td>\n",
       "      <td>4</td>\n",
       "      <td>17</td>\n",
       "    </tr>\n",
       "    <tr>\n",
       "      <td>3</td>\n",
       "      <td>0.0</td>\n",
       "      <td>0.296</td>\n",
       "      <td>1</td>\n",
       "      <td>4</td>\n",
       "      <td>17</td>\n",
       "    </tr>\n",
       "    <tr>\n",
       "      <td>4</td>\n",
       "      <td>0.0</td>\n",
       "      <td>0.311</td>\n",
       "      <td>1</td>\n",
       "      <td>4</td>\n",
       "      <td>17</td>\n",
       "    </tr>\n",
       "    <tr>\n",
       "      <td>...</td>\n",
       "      <td>...</td>\n",
       "      <td>...</td>\n",
       "      <td>...</td>\n",
       "      <td>...</td>\n",
       "      <td>...</td>\n",
       "    </tr>\n",
       "    <tr>\n",
       "      <td>1532855</td>\n",
       "      <td>0.0</td>\n",
       "      <td>0.032</td>\n",
       "      <td>2</td>\n",
       "      <td>1</td>\n",
       "      <td>10</td>\n",
       "    </tr>\n",
       "    <tr>\n",
       "      <td>1532856</td>\n",
       "      <td>0.0</td>\n",
       "      <td>0.210</td>\n",
       "      <td>2</td>\n",
       "      <td>1</td>\n",
       "      <td>10</td>\n",
       "    </tr>\n",
       "    <tr>\n",
       "      <td>1532857</td>\n",
       "      <td>0.0</td>\n",
       "      <td>0.474</td>\n",
       "      <td>2</td>\n",
       "      <td>1</td>\n",
       "      <td>10</td>\n",
       "    </tr>\n",
       "    <tr>\n",
       "      <td>1532858</td>\n",
       "      <td>0.0</td>\n",
       "      <td>0.263</td>\n",
       "      <td>2</td>\n",
       "      <td>1</td>\n",
       "      <td>10</td>\n",
       "    </tr>\n",
       "    <tr>\n",
       "      <td>1532859</td>\n",
       "      <td>0.0</td>\n",
       "      <td>0.045</td>\n",
       "      <td>2</td>\n",
       "      <td>1</td>\n",
       "      <td>10</td>\n",
       "    </tr>\n",
       "  </tbody>\n",
       "</table>\n",
       "<p>1532860 rows × 5 columns</p>\n",
       "</div>"
      ],
      "text/plain": [
       "         delivery  consumption  heating_sys people solar_panels\n",
       "0             0.0        0.031            1      4           17\n",
       "1             0.0        0.037            1      4           17\n",
       "2             0.0        0.034            1      4           17\n",
       "3             0.0        0.296            1      4           17\n",
       "4             0.0        0.311            1      4           17\n",
       "...           ...          ...          ...    ...          ...\n",
       "1532855       0.0        0.032            2      1           10\n",
       "1532856       0.0        0.210            2      1           10\n",
       "1532857       0.0        0.474            2      1           10\n",
       "1532858       0.0        0.263            2      1           10\n",
       "1532859       0.0        0.045            2      1           10\n",
       "\n",
       "[1532860 rows x 5 columns]"
      ]
     },
     "execution_count": 3,
     "metadata": {},
     "output_type": "execute_result"
    }
   ],
   "source": [
    "\n",
    "# Setting different columns (delivery, consumption, houses_info, dummy_variables)\n",
    "df = pd.DataFrame(columns=['delivery','consumption'])\n",
    "\n",
    "ar_deli = np.array([])\n",
    "ar_cons = np.array([])\n",
    "for col in range(len(df_deli.columns)):\n",
    "    ar_deli = np.append(ar_deli, df_deli.values[:, col])\n",
    "    ar_cons = np.append(ar_cons, df_cons.values[:, col])\n",
    "    \n",
    "ar_heatSystem = np.array([])\n",
    "ar_people = np.array([])\n",
    "ar_solar_panels = np.array([])\n",
    "for col in df_info.columns:\n",
    "    ar_heatSystem = np.append(ar_heatSystem, (df_info.loc[['concept'], [col]].values[0].tolist() * df_deli.shape[0]))\n",
    "    ar_people = np.append(ar_people, (df_info.loc[['personen'], [col]].values[0].tolist() * df_deli.shape[0]))\n",
    "    ar_solar_panels = np.append(ar_solar_panels, (df_info.loc[['PV-aantal'], [col]].values[0].tolist() * df_deli.shape[0]))\n",
    "    \n",
    "\n",
    "df['delivery'] = pd.Series(ar_deli)\n",
    "df['consumption'] = pd.Series(ar_cons)\n",
    "df['heating_sys'] = pd.Series(ar_heatSystem)\n",
    "df['people'] = pd.Series(ar_people)\n",
    "df['solar_panels'] = pd.Series(ar_solar_panels)\n",
    "#df['time'] = pd.Series(df_cons.index)\n",
    "\n",
    "df.replace('E', 1, inplace=True)\n",
    "df.replace('WP', 2, inplace=True)\n",
    "df.replace('Zon', 3, inplace=True)\n",
    "\n",
    "df\n"
   ]
  },
  {
   "cell_type": "code",
   "execution_count": 4,
   "metadata": {},
   "outputs": [
    {
     "data": {
      "text/html": [
       "<div>\n",
       "<style scoped>\n",
       "    .dataframe tbody tr th:only-of-type {\n",
       "        vertical-align: middle;\n",
       "    }\n",
       "\n",
       "    .dataframe tbody tr th {\n",
       "        vertical-align: top;\n",
       "    }\n",
       "\n",
       "    .dataframe thead th {\n",
       "        text-align: right;\n",
       "    }\n",
       "</style>\n",
       "<table border=\"1\" class=\"dataframe\">\n",
       "  <thead>\n",
       "    <tr style=\"text-align: right;\">\n",
       "      <th></th>\n",
       "      <th>delivery</th>\n",
       "      <th>consumption</th>\n",
       "      <th>heating_sys</th>\n",
       "      <th>people</th>\n",
       "      <th>solar_panels</th>\n",
       "    </tr>\n",
       "  </thead>\n",
       "  <tbody>\n",
       "    <tr>\n",
       "      <td>1532855</td>\n",
       "      <td>0.0</td>\n",
       "      <td>0.032</td>\n",
       "      <td>2</td>\n",
       "      <td>1</td>\n",
       "      <td>10</td>\n",
       "    </tr>\n",
       "    <tr>\n",
       "      <td>1532856</td>\n",
       "      <td>0.0</td>\n",
       "      <td>0.210</td>\n",
       "      <td>2</td>\n",
       "      <td>1</td>\n",
       "      <td>10</td>\n",
       "    </tr>\n",
       "    <tr>\n",
       "      <td>1532857</td>\n",
       "      <td>0.0</td>\n",
       "      <td>0.474</td>\n",
       "      <td>2</td>\n",
       "      <td>1</td>\n",
       "      <td>10</td>\n",
       "    </tr>\n",
       "    <tr>\n",
       "      <td>1532858</td>\n",
       "      <td>0.0</td>\n",
       "      <td>0.263</td>\n",
       "      <td>2</td>\n",
       "      <td>1</td>\n",
       "      <td>10</td>\n",
       "    </tr>\n",
       "    <tr>\n",
       "      <td>1532859</td>\n",
       "      <td>0.0</td>\n",
       "      <td>0.045</td>\n",
       "      <td>2</td>\n",
       "      <td>1</td>\n",
       "      <td>10</td>\n",
       "    </tr>\n",
       "  </tbody>\n",
       "</table>\n",
       "</div>"
      ],
      "text/plain": [
       "         delivery  consumption  heating_sys people solar_panels\n",
       "1532855       0.0        0.032            2      1           10\n",
       "1532856       0.0        0.210            2      1           10\n",
       "1532857       0.0        0.474            2      1           10\n",
       "1532858       0.0        0.263            2      1           10\n",
       "1532859       0.0        0.045            2      1           10"
      ]
     },
     "execution_count": 4,
     "metadata": {},
     "output_type": "execute_result"
    }
   ],
   "source": [
    "df.tail()"
   ]
  },
  {
   "cell_type": "code",
   "execution_count": 5,
   "metadata": {},
   "outputs": [
    {
     "data": {
      "text/html": [
       "<div>\n",
       "<style scoped>\n",
       "    .dataframe tbody tr th:only-of-type {\n",
       "        vertical-align: middle;\n",
       "    }\n",
       "\n",
       "    .dataframe tbody tr th {\n",
       "        vertical-align: top;\n",
       "    }\n",
       "\n",
       "    .dataframe thead th {\n",
       "        text-align: right;\n",
       "    }\n",
       "</style>\n",
       "<table border=\"1\" class=\"dataframe\">\n",
       "  <thead>\n",
       "    <tr style=\"text-align: right;\">\n",
       "      <th></th>\n",
       "      <th>delivery</th>\n",
       "      <th>consumption</th>\n",
       "    </tr>\n",
       "  </thead>\n",
       "  <tbody>\n",
       "    <tr>\n",
       "      <td>0</td>\n",
       "      <td>0.0</td>\n",
       "      <td>0.031</td>\n",
       "    </tr>\n",
       "    <tr>\n",
       "      <td>1</td>\n",
       "      <td>0.0</td>\n",
       "      <td>0.037</td>\n",
       "    </tr>\n",
       "    <tr>\n",
       "      <td>2</td>\n",
       "      <td>0.0</td>\n",
       "      <td>0.034</td>\n",
       "    </tr>\n",
       "    <tr>\n",
       "      <td>3</td>\n",
       "      <td>0.0</td>\n",
       "      <td>0.296</td>\n",
       "    </tr>\n",
       "    <tr>\n",
       "      <td>4</td>\n",
       "      <td>0.0</td>\n",
       "      <td>0.311</td>\n",
       "    </tr>\n",
       "    <tr>\n",
       "      <td>...</td>\n",
       "      <td>...</td>\n",
       "      <td>...</td>\n",
       "    </tr>\n",
       "    <tr>\n",
       "      <td>1532855</td>\n",
       "      <td>0.0</td>\n",
       "      <td>0.032</td>\n",
       "    </tr>\n",
       "    <tr>\n",
       "      <td>1532856</td>\n",
       "      <td>0.0</td>\n",
       "      <td>0.210</td>\n",
       "    </tr>\n",
       "    <tr>\n",
       "      <td>1532857</td>\n",
       "      <td>0.0</td>\n",
       "      <td>0.474</td>\n",
       "    </tr>\n",
       "    <tr>\n",
       "      <td>1532858</td>\n",
       "      <td>0.0</td>\n",
       "      <td>0.263</td>\n",
       "    </tr>\n",
       "    <tr>\n",
       "      <td>1532859</td>\n",
       "      <td>0.0</td>\n",
       "      <td>0.045</td>\n",
       "    </tr>\n",
       "  </tbody>\n",
       "</table>\n",
       "<p>1532860 rows × 2 columns</p>\n",
       "</div>"
      ],
      "text/plain": [
       "         delivery  consumption\n",
       "0             0.0        0.031\n",
       "1             0.0        0.037\n",
       "2             0.0        0.034\n",
       "3             0.0        0.296\n",
       "4             0.0        0.311\n",
       "...           ...          ...\n",
       "1532855       0.0        0.032\n",
       "1532856       0.0        0.210\n",
       "1532857       0.0        0.474\n",
       "1532858       0.0        0.263\n",
       "1532859       0.0        0.045\n",
       "\n",
       "[1532860 rows x 2 columns]"
      ]
     },
     "execution_count": 5,
     "metadata": {},
     "output_type": "execute_result"
    }
   ],
   "source": [
    "\n",
    "#df[\"time\"] = pd.to_datetime(df[\"time\"])\n",
    "#df.index = df['time']\n",
    "\n",
    "clean = df[['delivery', 'consumption']]\n",
    "#clean = clean.resample('H').sum()\n",
    "clean\n",
    "\n",
    "\n"
   ]
  },
  {
   "cell_type": "code",
   "execution_count": null,
   "metadata": {},
   "outputs": [],
   "source": []
  },
  {
   "cell_type": "code",
   "execution_count": 6,
   "metadata": {},
   "outputs": [],
   "source": [
    "#temp = pd.read_csv('KNMI_Voorschoten_20170711_20190601_WithoutHeader_V2.txt', sep=\",\", header=None)\n",
    "#temp.columns = [\"STN\", \"YYYYMMDD\", \"HH\", \"T\",'T10','SQ','Q','N']"
   ]
  },
  {
   "cell_type": "code",
   "execution_count": 7,
   "metadata": {},
   "outputs": [],
   "source": [
    "#temp = temp.iloc[1536:,:] #droppin out all the data that goes out the consumption&delivery dataframe (sto have same lenght)\n",
    "#temp"
   ]
  },
  {
   "cell_type": "code",
   "execution_count": 8,
   "metadata": {},
   "outputs": [],
   "source": [
    "\n",
    "#result = clean.join(temp.set_index(clean.index))\n",
    "#result"
   ]
  },
  {
   "cell_type": "code",
   "execution_count": 9,
   "metadata": {},
   "outputs": [],
   "source": [
    "#df = df[(df != 0.0).all(1)]\n",
    "\n",
    "#commented because the same lenght of datasets\n",
    "df = df[(df[['delivery', 'consumption']] != 0.0).any(1)] #drop out all the data that has 0 delivery and 0 consumption at the same time"
   ]
  },
  {
   "cell_type": "code",
   "execution_count": 10,
   "metadata": {},
   "outputs": [
    {
     "data": {
      "text/html": [
       "<div>\n",
       "<style scoped>\n",
       "    .dataframe tbody tr th:only-of-type {\n",
       "        vertical-align: middle;\n",
       "    }\n",
       "\n",
       "    .dataframe tbody tr th {\n",
       "        vertical-align: top;\n",
       "    }\n",
       "\n",
       "    .dataframe thead th {\n",
       "        text-align: right;\n",
       "    }\n",
       "</style>\n",
       "<table border=\"1\" class=\"dataframe\">\n",
       "  <thead>\n",
       "    <tr style=\"text-align: right;\">\n",
       "      <th></th>\n",
       "      <th>delivery</th>\n",
       "      <th>consumption</th>\n",
       "      <th>people</th>\n",
       "      <th>solar_panels</th>\n",
       "    </tr>\n",
       "  </thead>\n",
       "  <tbody>\n",
       "    <tr>\n",
       "      <td>0</td>\n",
       "      <td>0.0</td>\n",
       "      <td>0.031</td>\n",
       "      <td>4</td>\n",
       "      <td>17</td>\n",
       "    </tr>\n",
       "    <tr>\n",
       "      <td>1</td>\n",
       "      <td>0.0</td>\n",
       "      <td>0.037</td>\n",
       "      <td>4</td>\n",
       "      <td>17</td>\n",
       "    </tr>\n",
       "    <tr>\n",
       "      <td>2</td>\n",
       "      <td>0.0</td>\n",
       "      <td>0.034</td>\n",
       "      <td>4</td>\n",
       "      <td>17</td>\n",
       "    </tr>\n",
       "    <tr>\n",
       "      <td>3</td>\n",
       "      <td>0.0</td>\n",
       "      <td>0.296</td>\n",
       "      <td>4</td>\n",
       "      <td>17</td>\n",
       "    </tr>\n",
       "    <tr>\n",
       "      <td>4</td>\n",
       "      <td>0.0</td>\n",
       "      <td>0.311</td>\n",
       "      <td>4</td>\n",
       "      <td>17</td>\n",
       "    </tr>\n",
       "    <tr>\n",
       "      <td>...</td>\n",
       "      <td>...</td>\n",
       "      <td>...</td>\n",
       "      <td>...</td>\n",
       "      <td>...</td>\n",
       "    </tr>\n",
       "    <tr>\n",
       "      <td>1532855</td>\n",
       "      <td>0.0</td>\n",
       "      <td>0.032</td>\n",
       "      <td>1</td>\n",
       "      <td>10</td>\n",
       "    </tr>\n",
       "    <tr>\n",
       "      <td>1532856</td>\n",
       "      <td>0.0</td>\n",
       "      <td>0.210</td>\n",
       "      <td>1</td>\n",
       "      <td>10</td>\n",
       "    </tr>\n",
       "    <tr>\n",
       "      <td>1532857</td>\n",
       "      <td>0.0</td>\n",
       "      <td>0.474</td>\n",
       "      <td>1</td>\n",
       "      <td>10</td>\n",
       "    </tr>\n",
       "    <tr>\n",
       "      <td>1532858</td>\n",
       "      <td>0.0</td>\n",
       "      <td>0.263</td>\n",
       "      <td>1</td>\n",
       "      <td>10</td>\n",
       "    </tr>\n",
       "    <tr>\n",
       "      <td>1532859</td>\n",
       "      <td>0.0</td>\n",
       "      <td>0.045</td>\n",
       "      <td>1</td>\n",
       "      <td>10</td>\n",
       "    </tr>\n",
       "  </tbody>\n",
       "</table>\n",
       "<p>1532736 rows × 4 columns</p>\n",
       "</div>"
      ],
      "text/plain": [
       "         delivery  consumption people solar_panels\n",
       "0             0.0        0.031      4           17\n",
       "1             0.0        0.037      4           17\n",
       "2             0.0        0.034      4           17\n",
       "3             0.0        0.296      4           17\n",
       "4             0.0        0.311      4           17\n",
       "...           ...          ...    ...          ...\n",
       "1532855       0.0        0.032      1           10\n",
       "1532856       0.0        0.210      1           10\n",
       "1532857       0.0        0.474      1           10\n",
       "1532858       0.0        0.263      1           10\n",
       "1532859       0.0        0.045      1           10\n",
       "\n",
       "[1532736 rows x 4 columns]"
      ]
     },
     "execution_count": 10,
     "metadata": {},
     "output_type": "execute_result"
    }
   ],
   "source": [
    "del_heat = df[['delivery', 'consumption','people', 'solar_panels']] #storing only the columns that i want to use to train, (all of them except the target variable)\n",
    "del_heat\n",
    "\n",
    "#_______________________________## only using this to the datetime series_________\n",
    "#del_heat = result[['delivery', 'consumption','YYYYMMDD','HH','T']] #storing only the columns that i want to use to train, (all of them except the target variable)\n",
    "#del_heat"
   ]
  },
  {
   "cell_type": "code",
   "execution_count": 11,
   "metadata": {},
   "outputs": [
    {
     "name": "stderr",
     "output_type": "stream",
     "text": [
      "/opt/jupyterhub/anaconda/lib/python3.6/site-packages/ipykernel_launcher.py:1: SettingWithCopyWarning: \n",
      "A value is trying to be set on a copy of a slice from a DataFrame.\n",
      "Try using .loc[row_indexer,col_indexer] = value instead\n",
      "\n",
      "See the caveats in the documentation: http://pandas.pydata.org/pandas-docs/stable/user_guide/indexing.html#returning-a-view-versus-a-copy\n",
      "  \"\"\"Entry point for launching an IPython kernel.\n",
      "/opt/jupyterhub/anaconda/lib/python3.6/site-packages/ipykernel_launcher.py:2: SettingWithCopyWarning: \n",
      "A value is trying to be set on a copy of a slice from a DataFrame.\n",
      "Try using .loc[row_indexer,col_indexer] = value instead\n",
      "\n",
      "See the caveats in the documentation: http://pandas.pydata.org/pandas-docs/stable/user_guide/indexing.html#returning-a-view-versus-a-copy\n",
      "  \n"
     ]
    },
    {
     "data": {
      "text/plain": [
       "17"
      ]
     },
     "execution_count": 11,
     "metadata": {},
     "output_type": "execute_result"
    }
   ],
   "source": [
    "del_heat['people'] = pd.to_numeric(del_heat['people']) #converting to numeric, it was an object\n",
    "del_heat['solar_panels'] = pd.to_numeric(del_heat['solar_panels']) #converting to numeric, it was an object\n",
    "del_heat['solar_panels'].max() #checking if it works well\n"
   ]
  },
  {
   "cell_type": "code",
   "execution_count": 12,
   "metadata": {},
   "outputs": [
    {
     "data": {
      "text/plain": [
       "delivery         0.911\n",
       "consumption      3.242\n",
       "people           4.000\n",
       "solar_panels    17.000\n",
       "dtype: float64"
      ]
     },
     "execution_count": 12,
     "metadata": {},
     "output_type": "execute_result"
    }
   ],
   "source": [
    "del_heat.max() #everything appears to be good"
   ]
  },
  {
   "cell_type": "code",
   "execution_count": null,
   "metadata": {},
   "outputs": [],
   "source": []
  },
  {
   "cell_type": "code",
   "execution_count": 13,
   "metadata": {},
   "outputs": [
    {
     "data": {
      "text/html": [
       "<div>\n",
       "<style scoped>\n",
       "    .dataframe tbody tr th:only-of-type {\n",
       "        vertical-align: middle;\n",
       "    }\n",
       "\n",
       "    .dataframe tbody tr th {\n",
       "        vertical-align: top;\n",
       "    }\n",
       "\n",
       "    .dataframe thead th {\n",
       "        text-align: right;\n",
       "    }\n",
       "</style>\n",
       "<table border=\"1\" class=\"dataframe\">\n",
       "  <thead>\n",
       "    <tr style=\"text-align: right;\">\n",
       "      <th></th>\n",
       "      <th>0</th>\n",
       "      <th>1</th>\n",
       "      <th>2</th>\n",
       "      <th>3</th>\n",
       "    </tr>\n",
       "  </thead>\n",
       "  <tbody>\n",
       "    <tr>\n",
       "      <td>0</td>\n",
       "      <td>0.0</td>\n",
       "      <td>0.009562</td>\n",
       "      <td>1.0</td>\n",
       "      <td>1.000000</td>\n",
       "    </tr>\n",
       "    <tr>\n",
       "      <td>1</td>\n",
       "      <td>0.0</td>\n",
       "      <td>0.011413</td>\n",
       "      <td>1.0</td>\n",
       "      <td>1.000000</td>\n",
       "    </tr>\n",
       "    <tr>\n",
       "      <td>2</td>\n",
       "      <td>0.0</td>\n",
       "      <td>0.010487</td>\n",
       "      <td>1.0</td>\n",
       "      <td>1.000000</td>\n",
       "    </tr>\n",
       "    <tr>\n",
       "      <td>3</td>\n",
       "      <td>0.0</td>\n",
       "      <td>0.091302</td>\n",
       "      <td>1.0</td>\n",
       "      <td>1.000000</td>\n",
       "    </tr>\n",
       "    <tr>\n",
       "      <td>4</td>\n",
       "      <td>0.0</td>\n",
       "      <td>0.095928</td>\n",
       "      <td>1.0</td>\n",
       "      <td>1.000000</td>\n",
       "    </tr>\n",
       "    <tr>\n",
       "      <td>...</td>\n",
       "      <td>...</td>\n",
       "      <td>...</td>\n",
       "      <td>...</td>\n",
       "      <td>...</td>\n",
       "    </tr>\n",
       "    <tr>\n",
       "      <td>1532731</td>\n",
       "      <td>0.0</td>\n",
       "      <td>0.009870</td>\n",
       "      <td>0.0</td>\n",
       "      <td>0.222222</td>\n",
       "    </tr>\n",
       "    <tr>\n",
       "      <td>1532732</td>\n",
       "      <td>0.0</td>\n",
       "      <td>0.064775</td>\n",
       "      <td>0.0</td>\n",
       "      <td>0.222222</td>\n",
       "    </tr>\n",
       "    <tr>\n",
       "      <td>1532733</td>\n",
       "      <td>0.0</td>\n",
       "      <td>0.146206</td>\n",
       "      <td>0.0</td>\n",
       "      <td>0.222222</td>\n",
       "    </tr>\n",
       "    <tr>\n",
       "      <td>1532734</td>\n",
       "      <td>0.0</td>\n",
       "      <td>0.081123</td>\n",
       "      <td>0.0</td>\n",
       "      <td>0.222222</td>\n",
       "    </tr>\n",
       "    <tr>\n",
       "      <td>1532735</td>\n",
       "      <td>0.0</td>\n",
       "      <td>0.013880</td>\n",
       "      <td>0.0</td>\n",
       "      <td>0.222222</td>\n",
       "    </tr>\n",
       "  </tbody>\n",
       "</table>\n",
       "<p>1532736 rows × 4 columns</p>\n",
       "</div>"
      ],
      "text/plain": [
       "           0         1    2         3\n",
       "0        0.0  0.009562  1.0  1.000000\n",
       "1        0.0  0.011413  1.0  1.000000\n",
       "2        0.0  0.010487  1.0  1.000000\n",
       "3        0.0  0.091302  1.0  1.000000\n",
       "4        0.0  0.095928  1.0  1.000000\n",
       "...      ...       ...  ...       ...\n",
       "1532731  0.0  0.009870  0.0  0.222222\n",
       "1532732  0.0  0.064775  0.0  0.222222\n",
       "1532733  0.0  0.146206  0.0  0.222222\n",
       "1532734  0.0  0.081123  0.0  0.222222\n",
       "1532735  0.0  0.013880  0.0  0.222222\n",
       "\n",
       "[1532736 rows x 4 columns]"
      ]
     },
     "execution_count": 13,
     "metadata": {},
     "output_type": "execute_result"
    }
   ],
   "source": [
    "#data normalitation\n",
    "#df_norm = (del_heat-del_heat.max())/(del_heat.max()-del_heat.min)\n",
    "\n",
    "x = del_heat.values #returns a numpy array\n",
    "min_max_scaler = preprocessing.MinMaxScaler()\n",
    "x_scaled = min_max_scaler.fit_transform(x)\n",
    "df_norm = pd.DataFrame(x_scaled)\n",
    "\n",
    "df_norm\n"
   ]
  },
  {
   "cell_type": "code",
   "execution_count": 14,
   "metadata": {},
   "outputs": [
    {
     "data": {
      "text/plain": [
       "0          1\n",
       "1          1\n",
       "2          1\n",
       "3          1\n",
       "4          1\n",
       "          ..\n",
       "1532855    2\n",
       "1532856    2\n",
       "1532857    2\n",
       "1532858    2\n",
       "1532859    2\n",
       "Name: heating_sys, Length: 1532736, dtype: int64"
      ]
     },
     "execution_count": 14,
     "metadata": {},
     "output_type": "execute_result"
    }
   ],
   "source": [
    "#df['heating_sys'].unique()\n",
    "#df['heating_sys']\n",
    "\n",
    "#salida = df['heating_sys'].resample('H')\n",
    "\n",
    "df['heating_sys']"
   ]
  },
  {
   "cell_type": "code",
   "execution_count": 15,
   "metadata": {},
   "outputs": [
    {
     "data": {
      "text/plain": [
       "0          0.0\n",
       "1          0.0\n",
       "2          0.0\n",
       "3          0.0\n",
       "4          0.0\n",
       "          ... \n",
       "1532855    0.5\n",
       "1532856    0.5\n",
       "1532857    0.5\n",
       "1532858    0.5\n",
       "1532859    0.5\n",
       "Name: heating_sys, Length: 1532736, dtype: float64"
      ]
     },
     "execution_count": 15,
     "metadata": {},
     "output_type": "execute_result"
    }
   ],
   "source": [
    "total = df_norm.values #array converting from the normalized dataframe \n",
    "output = df['heating_sys'] #storing the target variable column\n",
    "\n",
    " \n",
    "\n",
    "output_norm = (output-np.min(output))/(np.max(output)-np.min(output)) #target variable normalitation\n",
    "output_norm\n"
   ]
  },
  {
   "cell_type": "code",
   "execution_count": 16,
   "metadata": {},
   "outputs": [],
   "source": [
    "X_train, X_test, Y_train, Y_test = train_test_split(total, output_norm, test_size=0.3) #splitin the 30% of the data to test"
   ]
  },
  {
   "cell_type": "code",
   "execution_count": 17,
   "metadata": {},
   "outputs": [
    {
     "data": {
      "text/plain": [
       "(1072915, 4)"
      ]
     },
     "execution_count": 17,
     "metadata": {},
     "output_type": "execute_result"
    }
   ],
   "source": [
    "X_train.shape"
   ]
  },
  {
   "cell_type": "code",
   "execution_count": 18,
   "metadata": {},
   "outputs": [],
   "source": [
    "#1)ype of neural network(fully connected)\n",
    "model = Sequential()"
   ]
  },
  {
   "cell_type": "code",
   "execution_count": 19,
   "metadata": {},
   "outputs": [],
   "source": [
    "#Modelo del MLP compuesto por una entrada del array de cada imagen de 28x28, capa oculta de 128 neuronas y una de salida de 10\n",
    "#MLP model based on an array of \n",
    "\n",
    "\n",
    "\n",
    "#FIRST LAYER\n",
    "#-units: Number of neurons in the layer (follow indications in order to avoid minusfitting or overfitting)\n",
    "#-activation: Función de activación\n",
    "#activation = funcion_RELU\n",
    "#-input_dim: Número de entradas de la red\n",
    "\n",
    "\n",
    "# still thinking in creating a new model or using the basic one (it will depend on the input)\n",
    "\n",
    "model.add(Dense(units = 15, input_dim = 4, activation = 'relu'))\n",
    "\n",
    "model.add(Dropout(0.2))#___________________________check if it works better \n",
    "\n",
    "\n",
    "\n",
    "#adding next hiden layers \n",
    "#unitsF = 1\n",
    "#activationF = 1/(1+np.exp(-S)) #Sigmoid\n",
    "\n",
    "#model.add(Dense(25, activation = 'relu'))\n",
    "#model.add(Dense(10, activation = 'relu'))\n",
    "model.add(Dense(1, activation = 'sigmoid')) #3 diferent groups ##sigmoid"
   ]
  },
  {
   "cell_type": "code",
   "execution_count": 20,
   "metadata": {},
   "outputs": [],
   "source": [
    "\n",
    "#-loss: error function.\n",
    "\n",
    "#-optimizer: how the network will adjust the weights . sgd = optimizers.SGD(lr, decay, momentum)\n",
    "# check the different optimizers to see wich one fits better\n",
    "#lr: Learning rate.\n",
    "\n",
    "\n",
    "\n",
    "lr= 0.01 #0.1 getting 56% accuracy\n",
    "\n",
    "model.compile(loss = 'mean_squared_error', optimizer = keras.optimizers.Adam(lr), metrics = ['accuracy'])\n",
    "\n"
   ]
  },
  {
   "cell_type": "code",
   "execution_count": 21,
   "metadata": {},
   "outputs": [
    {
     "name": "stdout",
     "output_type": "stream",
     "text": [
      "(1072915, 4)\n",
      "(1072915,)\n"
     ]
    }
   ],
   "source": [
    "print(X_train.shape) #checking the input shape before start training\n",
    "print(Y_train.shape)"
   ]
  },
  {
   "cell_type": "markdown",
   "metadata": {},
   "source": [
    "# Heatin system prediction"
   ]
  },
  {
   "cell_type": "code",
   "execution_count": 22,
   "metadata": {
    "scrolled": true
   },
   "outputs": [
    {
     "name": "stdout",
     "output_type": "stream",
     "text": [
      "Train on 965623 samples, validate on 107292 samples\n",
      "Epoch 1/30\n",
      "965623/965623 [==============================] - 60s 62us/step - loss: 0.0617 - acc: 0.4846 - val_loss: 0.0426 - val_acc: 0.5012\n",
      "Epoch 2/30\n",
      "965623/965623 [==============================] - 59s 61us/step - loss: 0.0439 - acc: 0.5018 - val_loss: 0.0424 - val_acc: 0.5009\n",
      "Epoch 3/30\n",
      "965623/965623 [==============================] - 60s 62us/step - loss: 0.0434 - acc: 0.5018 - val_loss: 0.0429 - val_acc: 0.4994\n",
      "Epoch 4/30\n",
      "965623/965623 [==============================] - 59s 61us/step - loss: 0.0431 - acc: 0.5021 - val_loss: 0.0507 - val_acc: 0.4985\n",
      "Epoch 5/30\n",
      "965623/965623 [==============================] - 58s 60us/step - loss: 0.0431 - acc: 0.5022 - val_loss: 0.0418 - val_acc: 0.5002\n",
      "Epoch 6/30\n",
      "965623/965623 [==============================] - 59s 61us/step - loss: 0.0430 - acc: 0.5023 - val_loss: 0.0426 - val_acc: 0.5002\n",
      "Epoch 7/30\n",
      "965623/965623 [==============================] - 59s 61us/step - loss: 0.0430 - acc: 0.5023 - val_loss: 0.0420 - val_acc: 0.5000\n",
      "Epoch 8/30\n",
      "965623/965623 [==============================] - 57s 59us/step - loss: 0.0428 - acc: 0.5023 - val_loss: 0.0422 - val_acc: 0.5011\n",
      "Epoch 9/30\n",
      "965623/965623 [==============================] - 57s 59us/step - loss: 0.0429 - acc: 0.5024 - val_loss: 0.0412 - val_acc: 0.5006\n",
      "Epoch 10/30\n",
      "965623/965623 [==============================] - 56s 58us/step - loss: 0.0428 - acc: 0.5023 - val_loss: 0.0429 - val_acc: 0.4977\n",
      "Epoch 11/30\n",
      "965623/965623 [==============================] - 57s 59us/step - loss: 0.0428 - acc: 0.5024 - val_loss: 0.0431 - val_acc: 0.5013\n",
      "Epoch 12/30\n",
      "965623/965623 [==============================] - 59s 61us/step - loss: 0.0428 - acc: 0.5023 - val_loss: 0.0409 - val_acc: 0.5009\n",
      "Epoch 13/30\n",
      "965623/965623 [==============================] - 59s 61us/step - loss: 0.0427 - acc: 0.5025 - val_loss: 0.0410 - val_acc: 0.5009\n",
      "Epoch 14/30\n",
      "965623/965623 [==============================] - 56s 58us/step - loss: 0.0426 - acc: 0.5025 - val_loss: 0.0420 - val_acc: 0.5011\n",
      "Epoch 15/30\n",
      "965623/965623 [==============================] - 58s 60us/step - loss: 0.0426 - acc: 0.5024 - val_loss: 0.0405 - val_acc: 0.5004\n",
      "Epoch 16/30\n",
      "965623/965623 [==============================] - 58s 60us/step - loss: 0.0426 - acc: 0.5025 - val_loss: 0.0441 - val_acc: 0.4989\n",
      "Epoch 17/30\n",
      "965623/965623 [==============================] - 59s 61us/step - loss: 0.0426 - acc: 0.5025 - val_loss: 0.0465 - val_acc: 0.5003\n",
      "Epoch 18/30\n",
      "965623/965623 [==============================] - 58s 60us/step - loss: 0.0426 - acc: 0.5024 - val_loss: 0.0411 - val_acc: 0.5009\n",
      "Epoch 19/30\n",
      "965623/965623 [==============================] - 59s 61us/step - loss: 0.0425 - acc: 0.5026 - val_loss: 0.0424 - val_acc: 0.5002\n",
      "Epoch 20/30\n",
      "965623/965623 [==============================] - 59s 62us/step - loss: 0.0426 - acc: 0.5026 - val_loss: 0.0420 - val_acc: 0.5000\n",
      "Epoch 21/30\n",
      "965623/965623 [==============================] - 54s 56us/step - loss: 0.0425 - acc: 0.5026 - val_loss: 0.0412 - val_acc: 0.4987\n",
      "Epoch 22/30\n",
      "965623/965623 [==============================] - 55s 57us/step - loss: 0.0426 - acc: 0.5024 - val_loss: 0.0470 - val_acc: 0.4969\n",
      "Epoch 23/30\n",
      "965623/965623 [==============================] - 54s 56us/step - loss: 0.0425 - acc: 0.5024 - val_loss: 0.0414 - val_acc: 0.5013\n",
      "Epoch 24/30\n",
      "965623/965623 [==============================] - 59s 62us/step - loss: 0.0425 - acc: 0.5025 - val_loss: 0.0415 - val_acc: 0.5009\n",
      "Epoch 25/30\n",
      "965623/965623 [==============================] - 59s 61us/step - loss: 0.0425 - acc: 0.5026 - val_loss: 0.0458 - val_acc: 0.4994\n",
      "Epoch 26/30\n",
      "965623/965623 [==============================] - 55s 57us/step - loss: 0.0425 - acc: 0.5026 - val_loss: 0.0412 - val_acc: 0.5009\n",
      "Epoch 27/30\n",
      "965623/965623 [==============================] - 59s 61us/step - loss: 0.0425 - acc: 0.5026 - val_loss: 0.0410 - val_acc: 0.5015\n",
      "Epoch 28/30\n",
      "965623/965623 [==============================] - 59s 61us/step - loss: 0.0425 - acc: 0.5025 - val_loss: 0.0407 - val_acc: 0.5011\n",
      "Epoch 29/30\n",
      "965623/965623 [==============================] - 58s 60us/step - loss: 0.0425 - acc: 0.5025 - val_loss: 0.0433 - val_acc: 0.5007\n",
      "Epoch 30/30\n",
      "965623/965623 [==============================] - 58s 60us/step - loss: 0.0425 - acc: 0.5024 - val_loss: 0.0465 - val_acc: 0.5005\n"
     ]
    }
   ],
   "source": [
    "\n",
    "history = model.fit(X_train, Y_train,validation_split = 0.1,  epochs = 30) #storing in the history variable to plot it after (loss and accuracy)\n"
   ]
  },
  {
   "cell_type": "code",
   "execution_count": 23,
   "metadata": {},
   "outputs": [
    {
     "name": "stdout",
     "output_type": "stream",
     "text": [
      "459821/459821 [==============================] - 9s 20us/step\n"
     ]
    },
    {
     "data": {
      "text/plain": [
       "[0.046331873279689115, 0.5028087016470101]"
      ]
     },
     "execution_count": 23,
     "metadata": {},
     "output_type": "execute_result"
    }
   ],
   "source": [
    "model.evaluate(X_test,Y_test)"
   ]
  },
  {
   "cell_type": "code",
   "execution_count": 24,
   "metadata": {},
   "outputs": [
    {
     "data": {
      "image/png": "[encoded data removed]",
      "text/plain": [
       "<Figure size 432x288 with 1 Axes>"
      ]
     },
     "metadata": {
      "needs_background": "light"
     },
     "output_type": "display_data"
    },
    {
     "data": {
      "image/png": "[encoded data removed]",
      "text/plain": [
       "<Figure size 432x288 with 1 Axes>"
      ]
     },
     "metadata": {
      "needs_background": "light"
     },
     "output_type": "display_data"
    }
   ],
   "source": [
    "# Plot training & validation accuracy values\n",
    "plt.plot(history.history['acc'])\n",
    "plt.plot(history.history['val_acc'])\n",
    "plt.title('Model accuracy')\n",
    "plt.ylabel('Accuracy')\n",
    "plt.xlabel('Epoch')\n",
    "plt.legend(['Train', 'Test'], loc='upper left')\n",
    "plt.show()\n",
    "\n",
    "# Plot training & validation loss values\n",
    "plt.plot(history.history['loss'])\n",
    "plt.plot(history.history['val_loss'])\n",
    "plt.title('Model loss')\n",
    "plt.ylabel('Loss')\n",
    "plt.xlabel('Epoch')\n",
    "plt.legend(['Train', 'Test'], loc='upper left')\n",
    "plt.show()"
   ]
  },
  {
   "cell_type": "code",
   "execution_count": null,
   "metadata": {},
   "outputs": [],
   "source": []
  },
  {
   "cell_type": "code",
   "execution_count": 25,
   "metadata": {},
   "outputs": [],
   "source": [
    "\n",
    "\n",
    "X_predict = model.predict(X_test)\n",
    "X_predict = X_predict.flatten()"
   ]
  },
  {
   "cell_type": "code",
   "execution_count": 26,
   "metadata": {},
   "outputs": [
    {
     "data": {
      "text/plain": [
       "array([0.5, 0.5, 0.5, ..., 0. , 0.5, 0.5])"
      ]
     },
     "execution_count": 26,
     "metadata": {},
     "output_type": "execute_result"
    }
   ],
   "source": [
    "#Y_test = Y_test.values\n",
    "test = Y_test.values\n",
    "test"
   ]
  },
  {
   "cell_type": "code",
   "execution_count": null,
   "metadata": {},
   "outputs": [],
   "source": [
    "\n"
   ]
  },
  {
   "cell_type": "code",
   "execution_count": 27,
   "metadata": {},
   "outputs": [
    {
     "data": {
      "text/plain": [
       "array([0.4334466 , 0.36594918, 0.42467678, ..., 0.02171652, 0.48219448,\n",
       "       0.45129806], dtype=float32)"
      ]
     },
     "execution_count": 27,
     "metadata": {},
     "output_type": "execute_result"
    }
   ],
   "source": [
    "X_predict"
   ]
  },
  {
   "cell_type": "code",
   "execution_count": 28,
   "metadata": {},
   "outputs": [],
   "source": [
    "#rounding the prediction in order to classify better, the model give us 0.99 for example but its close to 1, this is the reason\n",
    "#the model give to us only a nearly 50% accuracy\n",
    "X_predict_round = np.around(X_predict, decimals=1)\n",
    "test = np.around(test, decimals=1)"
   ]
  },
  {
   "cell_type": "code",
   "execution_count": 29,
   "metadata": {},
   "outputs": [
    {
     "data": {
      "text/plain": [
       "array([0.5, 0.5, 0.5, ..., 0. , 0.5, 0.5])"
      ]
     },
     "execution_count": 29,
     "metadata": {},
     "output_type": "execute_result"
    }
   ],
   "source": [
    "test"
   ]
  },
  {
   "cell_type": "code",
   "execution_count": 30,
   "metadata": {},
   "outputs": [
    {
     "name": "stdout",
     "output_type": "stream",
     "text": [
      "[[115391   5662      0]\n",
      " [ 16449  33307      0]\n",
      " [     0  12038  40040]]\n"
     ]
    },
    {
     "data": {
      "image/png": "[encoded data removed]",
      "text/plain": [
       "<Figure size 432x288 with 2 Axes>"
      ]
     },
     "metadata": {
      "needs_background": "light"
     },
     "output_type": "display_data"
    },
    {
     "name": "stdout",
     "output_type": "stream",
     "text": [
      "\n"
     ]
    }
   ],
   "source": [
    "from sklearn.metrics import confusion_matrix\n",
    "\n",
    "y_test = test * 10 #multiply to 10 to avoid the decimals (the confusion matrix get integers)\n",
    "\n",
    "pred = X_predict_round*10 #multiply to 10 to avoid the decimals (the confusion matrix get integers)\n",
    "\n",
    "labels = [0, 5, 10] #the 3 labels we want to find (remember thereare the normalized data * 10)\n",
    "cm = confusion_matrix(y_test, pred, labels)\n",
    "print(cm)\n",
    "fig = plt.figure()\n",
    "ax = fig.add_subplot(111)\n",
    "cax = ax.matshow(cm)\n",
    "plt.title('Confusion matrix of the classifier')\n",
    "fig.colorbar(cax)\n",
    "ax.set_xticklabels([''] + ['E', 'WP', 'Zon'])\n",
    "ax.set_yticklabels([''] + ['E', 'WP', 'Zon'])\n",
    "plt.xlabel('Predicted')\n",
    "plt.ylabel('True')\n",
    "\n",
    "plt.show()\n",
    "\n",
    "print()"
   ]
  },
  {
   "cell_type": "code",
   "execution_count": 31,
   "metadata": {},
   "outputs": [
    {
     "name": "stderr",
     "output_type": "stream",
     "text": [
      "/opt/jupyterhub/anaconda/lib/python3.6/site-packages/sklearn/metrics/classification.py:1439: UndefinedMetricWarning: Recall and F-score are ill-defined and being set to 0.0 in labels with no true samples.\n",
      "  'recall', 'true', average, warn_for)\n"
     ]
    },
    {
     "name": "stdout",
     "output_type": "stream",
     "text": [
      "              precision    recall  f1-score   support\n",
      "\n",
      "         0.0       0.88      0.70      0.78    164652\n",
      "         1.0       0.00      0.00      0.00         0\n",
      "         2.0       0.00      0.00      0.00         0\n",
      "         3.0       0.00      0.00      0.00         0\n",
      "         4.0       0.00      0.00      0.00         0\n",
      "         5.0       0.65      0.16      0.25    213604\n",
      "         6.0       0.00      0.00      0.00         0\n",
      "         7.0       0.00      0.00      0.00         0\n",
      "         8.0       0.00      0.00      0.00         0\n",
      "         9.0       0.00      0.00      0.00         0\n",
      "        10.0       1.00      0.49      0.66     81565\n",
      "\n",
      "    accuracy                           0.41    459821\n",
      "   macro avg       0.23      0.12      0.15    459821\n",
      "weighted avg       0.79      0.41      0.51    459821\n",
      "\n"
     ]
    }
   ],
   "source": [
    "from sklearn.metrics import classification_report\n",
    "print(classification_report(y_test,pred))"
   ]
  },
  {
   "cell_type": "code",
   "execution_count": 32,
   "metadata": {},
   "outputs": [
    {
     "name": "stdout",
     "output_type": "stream",
     "text": [
      "real: 0.5\n",
      "predicted: 0.4334466\n",
      "predicted rounded: 0.4\n",
      "\n",
      "house no. 727072\n"
     ]
    },
    {
     "data": {
      "text/plain": [
       "delivery           0\n",
       "consumption     0.08\n",
       "heating_sys        2\n",
       "people             4\n",
       "solar_panels      11\n",
       "Name: 727127, dtype: object"
      ]
     },
     "execution_count": 32,
     "metadata": {},
     "output_type": "execute_result"
    }
   ],
   "source": [
    "#model.evaluate(test, y_predict)\n",
    "\n",
    "indices = Y_test.index\n",
    "house_to_pred = 0\n",
    "\n",
    "print('real: ' + str(test[house_to_pred]))\n",
    "print('predicted: ' + str(X_predict[house_to_pred]))\n",
    "print('predicted rounded: ' + str(X_predict_round[house_to_pred]))\n",
    "print('\\nhouse no. ' + str(indices[house_to_pred]))\n",
    "house_no = indices[house_to_pred]\n",
    "\n",
    "#indice = Y_test.index[15]\n",
    "df.iloc[house_no,:]"
   ]
  },
  {
   "cell_type": "markdown",
   "metadata": {},
   "source": [
    "# People prediction"
   ]
  },
  {
   "cell_type": "code",
   "execution_count": 33,
   "metadata": {},
   "outputs": [
    {
     "data": {
      "text/html": [
       "<div>\n",
       "<style scoped>\n",
       "    .dataframe tbody tr th:only-of-type {\n",
       "        vertical-align: middle;\n",
       "    }\n",
       "\n",
       "    .dataframe tbody tr th {\n",
       "        vertical-align: top;\n",
       "    }\n",
       "\n",
       "    .dataframe thead th {\n",
       "        text-align: right;\n",
       "    }\n",
       "</style>\n",
       "<table border=\"1\" class=\"dataframe\">\n",
       "  <thead>\n",
       "    <tr style=\"text-align: right;\">\n",
       "      <th></th>\n",
       "      <th>delivery</th>\n",
       "      <th>consumption</th>\n",
       "      <th>heating_sys</th>\n",
       "      <th>solar_panels</th>\n",
       "    </tr>\n",
       "  </thead>\n",
       "  <tbody>\n",
       "    <tr>\n",
       "      <td>0</td>\n",
       "      <td>0.0</td>\n",
       "      <td>0.031</td>\n",
       "      <td>1</td>\n",
       "      <td>17</td>\n",
       "    </tr>\n",
       "    <tr>\n",
       "      <td>1</td>\n",
       "      <td>0.0</td>\n",
       "      <td>0.037</td>\n",
       "      <td>1</td>\n",
       "      <td>17</td>\n",
       "    </tr>\n",
       "    <tr>\n",
       "      <td>2</td>\n",
       "      <td>0.0</td>\n",
       "      <td>0.034</td>\n",
       "      <td>1</td>\n",
       "      <td>17</td>\n",
       "    </tr>\n",
       "    <tr>\n",
       "      <td>3</td>\n",
       "      <td>0.0</td>\n",
       "      <td>0.296</td>\n",
       "      <td>1</td>\n",
       "      <td>17</td>\n",
       "    </tr>\n",
       "    <tr>\n",
       "      <td>4</td>\n",
       "      <td>0.0</td>\n",
       "      <td>0.311</td>\n",
       "      <td>1</td>\n",
       "      <td>17</td>\n",
       "    </tr>\n",
       "    <tr>\n",
       "      <td>...</td>\n",
       "      <td>...</td>\n",
       "      <td>...</td>\n",
       "      <td>...</td>\n",
       "      <td>...</td>\n",
       "    </tr>\n",
       "    <tr>\n",
       "      <td>1532855</td>\n",
       "      <td>0.0</td>\n",
       "      <td>0.032</td>\n",
       "      <td>2</td>\n",
       "      <td>10</td>\n",
       "    </tr>\n",
       "    <tr>\n",
       "      <td>1532856</td>\n",
       "      <td>0.0</td>\n",
       "      <td>0.210</td>\n",
       "      <td>2</td>\n",
       "      <td>10</td>\n",
       "    </tr>\n",
       "    <tr>\n",
       "      <td>1532857</td>\n",
       "      <td>0.0</td>\n",
       "      <td>0.474</td>\n",
       "      <td>2</td>\n",
       "      <td>10</td>\n",
       "    </tr>\n",
       "    <tr>\n",
       "      <td>1532858</td>\n",
       "      <td>0.0</td>\n",
       "      <td>0.263</td>\n",
       "      <td>2</td>\n",
       "      <td>10</td>\n",
       "    </tr>\n",
       "    <tr>\n",
       "      <td>1532859</td>\n",
       "      <td>0.0</td>\n",
       "      <td>0.045</td>\n",
       "      <td>2</td>\n",
       "      <td>10</td>\n",
       "    </tr>\n",
       "  </tbody>\n",
       "</table>\n",
       "<p>1532736 rows × 4 columns</p>\n",
       "</div>"
      ],
      "text/plain": [
       "         delivery  consumption  heating_sys solar_panels\n",
       "0             0.0        0.031            1           17\n",
       "1             0.0        0.037            1           17\n",
       "2             0.0        0.034            1           17\n",
       "3             0.0        0.296            1           17\n",
       "4             0.0        0.311            1           17\n",
       "...           ...          ...          ...          ...\n",
       "1532855       0.0        0.032            2           10\n",
       "1532856       0.0        0.210            2           10\n",
       "1532857       0.0        0.474            2           10\n",
       "1532858       0.0        0.263            2           10\n",
       "1532859       0.0        0.045            2           10\n",
       "\n",
       "[1532736 rows x 4 columns]"
      ]
     },
     "execution_count": 33,
     "metadata": {},
     "output_type": "execute_result"
    }
   ],
   "source": [
    "del_people = df[['delivery', 'consumption','heating_sys', 'solar_panels']] #storing only the columns that i want to use to train, (all of them except the target variable)\n",
    "del_people"
   ]
  },
  {
   "cell_type": "code",
   "execution_count": 34,
   "metadata": {},
   "outputs": [
    {
     "name": "stderr",
     "output_type": "stream",
     "text": [
      "/opt/jupyterhub/anaconda/lib/python3.6/site-packages/ipykernel_launcher.py:2: SettingWithCopyWarning: \n",
      "A value is trying to be set on a copy of a slice from a DataFrame.\n",
      "Try using .loc[row_indexer,col_indexer] = value instead\n",
      "\n",
      "See the caveats in the documentation: http://pandas.pydata.org/pandas-docs/stable/user_guide/indexing.html#returning-a-view-versus-a-copy\n",
      "  \n",
      "/opt/jupyterhub/anaconda/lib/python3.6/site-packages/ipykernel_launcher.py:3: SettingWithCopyWarning: \n",
      "A value is trying to be set on a copy of a slice from a DataFrame.\n",
      "Try using .loc[row_indexer,col_indexer] = value instead\n",
      "\n",
      "See the caveats in the documentation: http://pandas.pydata.org/pandas-docs/stable/user_guide/indexing.html#returning-a-view-versus-a-copy\n",
      "  This is separate from the ipykernel package so we can avoid doing imports until\n"
     ]
    }
   ],
   "source": [
    "\n",
    "del_people['solar_panels'] = pd.to_numeric(del_people['solar_panels']) #converting to numeric, it was an object\n",
    "del_people['heating_sys'] = pd.to_numeric(del_people['heating_sys']) #converting to numeric, it was an object\n"
   ]
  },
  {
   "cell_type": "code",
   "execution_count": 35,
   "metadata": {},
   "outputs": [
    {
     "data": {
      "text/html": [
       "<div>\n",
       "<style scoped>\n",
       "    .dataframe tbody tr th:only-of-type {\n",
       "        vertical-align: middle;\n",
       "    }\n",
       "\n",
       "    .dataframe tbody tr th {\n",
       "        vertical-align: top;\n",
       "    }\n",
       "\n",
       "    .dataframe thead th {\n",
       "        text-align: right;\n",
       "    }\n",
       "</style>\n",
       "<table border=\"1\" class=\"dataframe\">\n",
       "  <thead>\n",
       "    <tr style=\"text-align: right;\">\n",
       "      <th></th>\n",
       "      <th>0</th>\n",
       "      <th>1</th>\n",
       "      <th>2</th>\n",
       "      <th>3</th>\n",
       "    </tr>\n",
       "  </thead>\n",
       "  <tbody>\n",
       "    <tr>\n",
       "      <td>0</td>\n",
       "      <td>0.0</td>\n",
       "      <td>0.009562</td>\n",
       "      <td>0.0</td>\n",
       "      <td>1.000000</td>\n",
       "    </tr>\n",
       "    <tr>\n",
       "      <td>1</td>\n",
       "      <td>0.0</td>\n",
       "      <td>0.011413</td>\n",
       "      <td>0.0</td>\n",
       "      <td>1.000000</td>\n",
       "    </tr>\n",
       "    <tr>\n",
       "      <td>2</td>\n",
       "      <td>0.0</td>\n",
       "      <td>0.010487</td>\n",
       "      <td>0.0</td>\n",
       "      <td>1.000000</td>\n",
       "    </tr>\n",
       "    <tr>\n",
       "      <td>3</td>\n",
       "      <td>0.0</td>\n",
       "      <td>0.091302</td>\n",
       "      <td>0.0</td>\n",
       "      <td>1.000000</td>\n",
       "    </tr>\n",
       "    <tr>\n",
       "      <td>4</td>\n",
       "      <td>0.0</td>\n",
       "      <td>0.095928</td>\n",
       "      <td>0.0</td>\n",
       "      <td>1.000000</td>\n",
       "    </tr>\n",
       "    <tr>\n",
       "      <td>...</td>\n",
       "      <td>...</td>\n",
       "      <td>...</td>\n",
       "      <td>...</td>\n",
       "      <td>...</td>\n",
       "    </tr>\n",
       "    <tr>\n",
       "      <td>1532731</td>\n",
       "      <td>0.0</td>\n",
       "      <td>0.009870</td>\n",
       "      <td>0.5</td>\n",
       "      <td>0.222222</td>\n",
       "    </tr>\n",
       "    <tr>\n",
       "      <td>1532732</td>\n",
       "      <td>0.0</td>\n",
       "      <td>0.064775</td>\n",
       "      <td>0.5</td>\n",
       "      <td>0.222222</td>\n",
       "    </tr>\n",
       "    <tr>\n",
       "      <td>1532733</td>\n",
       "      <td>0.0</td>\n",
       "      <td>0.146206</td>\n",
       "      <td>0.5</td>\n",
       "      <td>0.222222</td>\n",
       "    </tr>\n",
       "    <tr>\n",
       "      <td>1532734</td>\n",
       "      <td>0.0</td>\n",
       "      <td>0.081123</td>\n",
       "      <td>0.5</td>\n",
       "      <td>0.222222</td>\n",
       "    </tr>\n",
       "    <tr>\n",
       "      <td>1532735</td>\n",
       "      <td>0.0</td>\n",
       "      <td>0.013880</td>\n",
       "      <td>0.5</td>\n",
       "      <td>0.222222</td>\n",
       "    </tr>\n",
       "  </tbody>\n",
       "</table>\n",
       "<p>1532736 rows × 4 columns</p>\n",
       "</div>"
      ],
      "text/plain": [
       "           0         1    2         3\n",
       "0        0.0  0.009562  0.0  1.000000\n",
       "1        0.0  0.011413  0.0  1.000000\n",
       "2        0.0  0.010487  0.0  1.000000\n",
       "3        0.0  0.091302  0.0  1.000000\n",
       "4        0.0  0.095928  0.0  1.000000\n",
       "...      ...       ...  ...       ...\n",
       "1532731  0.0  0.009870  0.5  0.222222\n",
       "1532732  0.0  0.064775  0.5  0.222222\n",
       "1532733  0.0  0.146206  0.5  0.222222\n",
       "1532734  0.0  0.081123  0.5  0.222222\n",
       "1532735  0.0  0.013880  0.5  0.222222\n",
       "\n",
       "[1532736 rows x 4 columns]"
      ]
     },
     "execution_count": 35,
     "metadata": {},
     "output_type": "execute_result"
    }
   ],
   "source": [
    "x = del_people.values #returns a numpy array\n",
    "min_max_scaler = preprocessing.MinMaxScaler()\n",
    "x_scaled = min_max_scaler.fit_transform(x)\n",
    "df_norm = pd.DataFrame(x_scaled)\n",
    "\n",
    "df_norm"
   ]
  },
  {
   "cell_type": "code",
   "execution_count": 36,
   "metadata": {},
   "outputs": [
    {
     "name": "stderr",
     "output_type": "stream",
     "text": [
      "/opt/jupyterhub/anaconda/lib/python3.6/site-packages/ipykernel_launcher.py:4: SettingWithCopyWarning: \n",
      "A value is trying to be set on a copy of a slice from a DataFrame.\n",
      "Try using .loc[row_indexer,col_indexer] = value instead\n",
      "\n",
      "See the caveats in the documentation: http://pandas.pydata.org/pandas-docs/stable/user_guide/indexing.html#returning-a-view-versus-a-copy\n",
      "  after removing the cwd from sys.path.\n"
     ]
    },
    {
     "data": {
      "text/plain": [
       "array([1.        , 0.33333333, 0.        , 0.66666667])"
      ]
     },
     "execution_count": 36,
     "metadata": {},
     "output_type": "execute_result"
    }
   ],
   "source": [
    "total = df_norm.values #array converting from the normalized dataframe \n",
    "\n",
    "\n",
    "df['people'] = pd.to_numeric(df['people']) #converting to numeric, it was an object\n",
    "\n",
    "output = df['people'] #storing the target variable column\n",
    "\n",
    "output_norm = (output-np.min(output))/(np.max(output)-np.min(output)) #target variable normalitation\n",
    "output_norm.unique() #4 groups of people"
   ]
  },
  {
   "cell_type": "code",
   "execution_count": 37,
   "metadata": {},
   "outputs": [],
   "source": [
    "X_train, X_test, Y_train, Y_test = train_test_split(total, output_norm, test_size=0.3) #splitin the 30% of the data to test"
   ]
  },
  {
   "cell_type": "code",
   "execution_count": 38,
   "metadata": {
    "scrolled": true
   },
   "outputs": [
    {
     "name": "stdout",
     "output_type": "stream",
     "text": [
      "Train on 965623 samples, validate on 107292 samples\n",
      "Epoch 1/20\n",
      "965623/965623 [==============================] - 58s 60us/step - loss: 0.1639 - acc: 0.4141 - val_loss: 0.1586 - val_acc: 0.4151\n",
      "Epoch 2/20\n",
      "965623/965623 [==============================] - 57s 59us/step - loss: 0.1396 - acc: 0.4296 - val_loss: 0.0797 - val_acc: 0.4631\n",
      "Epoch 3/20\n",
      "965623/965623 [==============================] - 58s 60us/step - loss: 0.0812 - acc: 0.4565 - val_loss: 0.0789 - val_acc: 0.4492\n",
      "Epoch 4/20\n",
      "965623/965623 [==============================] - 57s 59us/step - loss: 0.0808 - acc: 0.4569 - val_loss: 0.0790 - val_acc: 0.4655\n",
      "Epoch 5/20\n",
      "965623/965623 [==============================] - 57s 59us/step - loss: 0.0806 - acc: 0.4581 - val_loss: 0.0914 - val_acc: 0.4376\n",
      "Epoch 6/20\n",
      "965623/965623 [==============================] - 58s 60us/step - loss: 0.0806 - acc: 0.4585 - val_loss: 0.0796 - val_acc: 0.4629\n",
      "Epoch 7/20\n",
      "965623/965623 [==============================] - 55s 57us/step - loss: 0.0806 - acc: 0.4584 - val_loss: 0.0798 - val_acc: 0.4638\n",
      "Epoch 8/20\n",
      "965623/965623 [==============================] - 57s 59us/step - loss: 0.0806 - acc: 0.4583 - val_loss: 0.0801 - val_acc: 0.4483\n",
      "Epoch 9/20\n",
      "965623/965623 [==============================] - 56s 58us/step - loss: 0.0805 - acc: 0.4587 - val_loss: 0.0792 - val_acc: 0.4627\n",
      "Epoch 10/20\n",
      "965623/965623 [==============================] - 56s 58us/step - loss: 0.0806 - acc: 0.4587 - val_loss: 0.0799 - val_acc: 0.4664\n",
      "Epoch 11/20\n",
      "965623/965623 [==============================] - 57s 59us/step - loss: 0.0805 - acc: 0.4589 - val_loss: 0.0786 - val_acc: 0.4666\n",
      "Epoch 12/20\n",
      "965623/965623 [==============================] - 55s 57us/step - loss: 0.0803 - acc: 0.4595 - val_loss: 0.0836 - val_acc: 0.4632\n",
      "Epoch 13/20\n",
      "965623/965623 [==============================] - 57s 59us/step - loss: 0.0800 - acc: 0.4608 - val_loss: 0.0814 - val_acc: 0.4646\n",
      "Epoch 14/20\n",
      "965623/965623 [==============================] - 58s 60us/step - loss: 0.0798 - acc: 0.4629 - val_loss: 0.0780 - val_acc: 0.4605\n",
      "Epoch 15/20\n",
      "965623/965623 [==============================] - 57s 59us/step - loss: 0.0796 - acc: 0.4632 - val_loss: 0.0784 - val_acc: 0.4529\n",
      "Epoch 16/20\n",
      "965623/965623 [==============================] - 57s 59us/step - loss: 0.0793 - acc: 0.4604 - val_loss: 0.0789 - val_acc: 0.4629\n",
      "Epoch 17/20\n",
      "965623/965623 [==============================] - 57s 59us/step - loss: 0.0794 - acc: 0.4603 - val_loss: 0.0790 - val_acc: 0.4502\n",
      "Epoch 18/20\n",
      "965623/965623 [==============================] - 57s 59us/step - loss: 0.0794 - acc: 0.4599 - val_loss: 0.0783 - val_acc: 0.4637\n",
      "Epoch 19/20\n",
      "965623/965623 [==============================] - 56s 58us/step - loss: 0.0793 - acc: 0.4603 - val_loss: 0.0783 - val_acc: 0.4637\n",
      "Epoch 20/20\n",
      "965623/965623 [==============================] - 58s 60us/step - loss: 0.0794 - acc: 0.4601 - val_loss: 0.0788 - val_acc: 0.4445\n"
     ]
    }
   ],
   "source": [
    "history = model.fit(X_train, Y_train,validation_split = 0.1,  epochs = 20) #storing in the history variable to plot it after (loss and accuracy)\n"
   ]
  },
  {
   "cell_type": "code",
   "execution_count": 39,
   "metadata": {},
   "outputs": [
    {
     "name": "stdout",
     "output_type": "stream",
     "text": [
      "459821/459821 [==============================] - 10s 21us/step\n"
     ]
    },
    {
     "data": {
      "text/plain": [
       "[0.07822362639109424, 0.44655855213302054]"
      ]
     },
     "execution_count": 39,
     "metadata": {},
     "output_type": "execute_result"
    }
   ],
   "source": [
    "model.evaluate(X_test,Y_test)"
   ]
  },
  {
   "cell_type": "code",
   "execution_count": 40,
   "metadata": {},
   "outputs": [
    {
     "data": {
      "image/png": "[encoded data removed]",
      "text/plain": [
       "<Figure size 432x288 with 1 Axes>"
      ]
     },
     "metadata": {
      "needs_background": "light"
     },
     "output_type": "display_data"
    },
    {
     "data": {
      "image/png": "[encoded data removed]",
      "text/plain": [
       "<Figure size 432x288 with 1 Axes>"
      ]
     },
     "metadata": {
      "needs_background": "light"
     },
     "output_type": "display_data"
    }
   ],
   "source": [
    "# Plot training & validation accuracy values\n",
    "plt.plot(history.history['acc'])\n",
    "plt.plot(history.history['val_acc'])\n",
    "plt.title('Model accuracy')\n",
    "plt.ylabel('Accuracy')\n",
    "plt.xlabel('Epoch')\n",
    "plt.legend(['Train', 'Test'], loc='upper left')\n",
    "plt.show()\n",
    "\n",
    "# Plot training & validation loss values\n",
    "plt.plot(history.history['loss'])\n",
    "plt.plot(history.history['val_loss'])\n",
    "plt.title('Model loss')\n",
    "plt.ylabel('Loss')\n",
    "plt.xlabel('Epoch')\n",
    "plt.legend(['Train', 'Test'], loc='upper left')\n",
    "plt.show()"
   ]
  },
  {
   "cell_type": "code",
   "execution_count": 41,
   "metadata": {},
   "outputs": [],
   "source": [
    "X_predict = model.predict(X_test)\n",
    "X_predict = X_predict.flatten()"
   ]
  },
  {
   "cell_type": "code",
   "execution_count": 42,
   "metadata": {},
   "outputs": [
    {
     "data": {
      "text/plain": [
       "array([0.        , 1.        , 0.33333333, ..., 0.        , 0.        ,\n",
       "       1.        ])"
      ]
     },
     "execution_count": 42,
     "metadata": {},
     "output_type": "execute_result"
    }
   ],
   "source": [
    "#Y_test = Y_test.values\n",
    "test = Y_test.values\n",
    "test"
   ]
  },
  {
   "cell_type": "code",
   "execution_count": 43,
   "metadata": {},
   "outputs": [],
   "source": [
    "#rounding the prediction in order to classify better, the model give us 0.99 for example but its close to 1, this is the reason\n",
    "#the model give to us only a nearly 50% accuracy\n",
    "X_predict_round = np.around(X_predict, decimals=1)\n",
    "test = np.around(test, decimals=1)"
   ]
  },
  {
   "cell_type": "code",
   "execution_count": 44,
   "metadata": {},
   "outputs": [
    {
     "data": {
      "text/plain": [
       "array([0.31714535, 0.4706037 , 0.46943787, ..., 0.3583097 , 0.45952263,\n",
       "       0.35825223], dtype=float32)"
      ]
     },
     "execution_count": 44,
     "metadata": {},
     "output_type": "execute_result"
    }
   ],
   "source": [
    "X_predict"
   ]
  },
  {
   "cell_type": "code",
   "execution_count": 45,
   "metadata": {},
   "outputs": [
    {
     "name": "stdout",
     "output_type": "stream",
     "text": [
      "[[19270     0 10011     0]\n",
      " [    0     0     0     0]\n",
      " [    0     0     0     0]\n",
      " [    0     0 21052 82164]]\n"
     ]
    },
    {
     "data": {
      "image/png": "[encoded data removed]",
      "text/plain": [
       "<Figure size 432x288 with 2 Axes>"
      ]
     },
     "metadata": {
      "needs_background": "light"
     },
     "output_type": "display_data"
    },
    {
     "name": "stdout",
     "output_type": "stream",
     "text": [
      "\n"
     ]
    }
   ],
   "source": [
    "from sklearn.metrics import confusion_matrix\n",
    "\n",
    "y_test = test * 10 #multiply to 10 to avoid the decimals (the confusion matrix get integers)\n",
    "\n",
    "pred = X_predict_round*10 #multiply to 10 to avoid the decimals (the confusion matrix get integers)\n",
    "\n",
    "labels = [0, 3.3, 5, 10] #the 3 labels we want to find (remember thereare the normalized data * 10)\n",
    "cm = confusion_matrix(y_test, pred, labels)\n",
    "print(cm)\n",
    "fig = plt.figure()\n",
    "ax = fig.add_subplot(111)\n",
    "cax = ax.matshow(cm)\n",
    "plt.title('Confusion matrix of the classifier')\n",
    "fig.colorbar(cax)\n",
    "ax.set_xticklabels([''] + ['1', '2', '3', '4'])\n",
    "ax.set_yticklabels([''] + ['1', '2', '3', '4'])\n",
    "plt.xlabel('Predicted')\n",
    "plt.ylabel('True')\n",
    "\n",
    "plt.show()\n",
    "\n",
    "print()"
   ]
  },
  {
   "cell_type": "code",
   "execution_count": 46,
   "metadata": {},
   "outputs": [
    {
     "name": "stderr",
     "output_type": "stream",
     "text": [
      "/opt/jupyterhub/anaconda/lib/python3.6/site-packages/sklearn/metrics/classification.py:1439: UndefinedMetricWarning: Recall and F-score are ill-defined and being set to 0.0 in labels with no true samples.\n",
      "  'recall', 'true', average, warn_for)\n"
     ]
    },
    {
     "name": "stdout",
     "output_type": "stream",
     "text": [
      "              precision    recall  f1-score   support\n",
      "\n",
      "         0.0       1.00      0.17      0.29    114643\n",
      "         1.0       0.00      0.00      0.00         0\n",
      "         2.0       0.00      0.00      0.00         0\n",
      "         3.0       0.81      0.56      0.66    164794\n",
      "         4.0       0.00      0.00      0.00         0\n",
      "         5.0       0.00      0.00      0.00         0\n",
      "         6.0       0.00      0.00      0.00         0\n",
      "         7.0       0.79      0.19      0.31     32549\n",
      "         8.0       0.00      0.00      0.00         0\n",
      "         9.0       0.00      0.00      0.00         0\n",
      "        10.0       1.00      0.56      0.71    147835\n",
      "\n",
      "    accuracy                           0.44    459821\n",
      "   macro avg       0.33      0.13      0.18    459821\n",
      "weighted avg       0.92      0.44      0.56    459821\n",
      "\n"
     ]
    }
   ],
   "source": [
    "from sklearn.metrics import classification_report\n",
    "print(classification_report(y_test,pred))"
   ]
  },
  {
   "cell_type": "markdown",
   "metadata": {},
   "source": [
    "# solar panels prediction"
   ]
  },
  {
   "cell_type": "code",
   "execution_count": 47,
   "metadata": {},
   "outputs": [
    {
     "data": {
      "text/html": [
       "<div>\n",
       "<style scoped>\n",
       "    .dataframe tbody tr th:only-of-type {\n",
       "        vertical-align: middle;\n",
       "    }\n",
       "\n",
       "    .dataframe tbody tr th {\n",
       "        vertical-align: top;\n",
       "    }\n",
       "\n",
       "    .dataframe thead th {\n",
       "        text-align: right;\n",
       "    }\n",
       "</style>\n",
       "<table border=\"1\" class=\"dataframe\">\n",
       "  <thead>\n",
       "    <tr style=\"text-align: right;\">\n",
       "      <th></th>\n",
       "      <th>delivery</th>\n",
       "      <th>consumption</th>\n",
       "      <th>heating_sys</th>\n",
       "      <th>people</th>\n",
       "      <th>solar_panels</th>\n",
       "    </tr>\n",
       "  </thead>\n",
       "  <tbody>\n",
       "    <tr>\n",
       "      <td>31</td>\n",
       "      <td>0.003</td>\n",
       "      <td>0.115</td>\n",
       "      <td>1</td>\n",
       "      <td>4</td>\n",
       "      <td>17</td>\n",
       "    </tr>\n",
       "    <tr>\n",
       "      <td>32</td>\n",
       "      <td>0.023</td>\n",
       "      <td>0.000</td>\n",
       "      <td>1</td>\n",
       "      <td>4</td>\n",
       "      <td>17</td>\n",
       "    </tr>\n",
       "    <tr>\n",
       "      <td>33</td>\n",
       "      <td>0.022</td>\n",
       "      <td>0.001</td>\n",
       "      <td>1</td>\n",
       "      <td>4</td>\n",
       "      <td>17</td>\n",
       "    </tr>\n",
       "    <tr>\n",
       "      <td>34</td>\n",
       "      <td>0.055</td>\n",
       "      <td>0.000</td>\n",
       "      <td>1</td>\n",
       "      <td>4</td>\n",
       "      <td>17</td>\n",
       "    </tr>\n",
       "    <tr>\n",
       "      <td>35</td>\n",
       "      <td>0.063</td>\n",
       "      <td>0.128</td>\n",
       "      <td>1</td>\n",
       "      <td>4</td>\n",
       "      <td>17</td>\n",
       "    </tr>\n",
       "    <tr>\n",
       "      <td>...</td>\n",
       "      <td>...</td>\n",
       "      <td>...</td>\n",
       "      <td>...</td>\n",
       "      <td>...</td>\n",
       "      <td>...</td>\n",
       "    </tr>\n",
       "    <tr>\n",
       "      <td>1532842</td>\n",
       "      <td>0.111</td>\n",
       "      <td>0.003</td>\n",
       "      <td>2</td>\n",
       "      <td>1</td>\n",
       "      <td>10</td>\n",
       "    </tr>\n",
       "    <tr>\n",
       "      <td>1532843</td>\n",
       "      <td>0.091</td>\n",
       "      <td>0.000</td>\n",
       "      <td>2</td>\n",
       "      <td>1</td>\n",
       "      <td>10</td>\n",
       "    </tr>\n",
       "    <tr>\n",
       "      <td>1532844</td>\n",
       "      <td>0.097</td>\n",
       "      <td>0.003</td>\n",
       "      <td>2</td>\n",
       "      <td>1</td>\n",
       "      <td>10</td>\n",
       "    </tr>\n",
       "    <tr>\n",
       "      <td>1532845</td>\n",
       "      <td>0.075</td>\n",
       "      <td>0.000</td>\n",
       "      <td>2</td>\n",
       "      <td>1</td>\n",
       "      <td>10</td>\n",
       "    </tr>\n",
       "    <tr>\n",
       "      <td>1532846</td>\n",
       "      <td>0.026</td>\n",
       "      <td>0.005</td>\n",
       "      <td>2</td>\n",
       "      <td>1</td>\n",
       "      <td>10</td>\n",
       "    </tr>\n",
       "  </tbody>\n",
       "</table>\n",
       "<p>531428 rows × 5 columns</p>\n",
       "</div>"
      ],
      "text/plain": [
       "         delivery  consumption  heating_sys  people solar_panels\n",
       "31          0.003        0.115            1       4           17\n",
       "32          0.023        0.000            1       4           17\n",
       "33          0.022        0.001            1       4           17\n",
       "34          0.055        0.000            1       4           17\n",
       "35          0.063        0.128            1       4           17\n",
       "...           ...          ...          ...     ...          ...\n",
       "1532842     0.111        0.003            2       1           10\n",
       "1532843     0.091        0.000            2       1           10\n",
       "1532844     0.097        0.003            2       1           10\n",
       "1532845     0.075        0.000            2       1           10\n",
       "1532846     0.026        0.005            2       1           10\n",
       "\n",
       "[531428 rows x 5 columns]"
      ]
     },
     "execution_count": 47,
     "metadata": {},
     "output_type": "execute_result"
    }
   ],
   "source": [
    "df_deli = df[(df[['delivery']] != 0.0).any(1)] #deletting the rows of 0 delivery\n",
    "df_deli\n",
    "\n",
    "\n"
   ]
  },
  {
   "cell_type": "code",
   "execution_count": 48,
   "metadata": {},
   "outputs": [
    {
     "data": {
      "text/html": [
       "<div>\n",
       "<style scoped>\n",
       "    .dataframe tbody tr th:only-of-type {\n",
       "        vertical-align: middle;\n",
       "    }\n",
       "\n",
       "    .dataframe tbody tr th {\n",
       "        vertical-align: top;\n",
       "    }\n",
       "\n",
       "    .dataframe thead th {\n",
       "        text-align: right;\n",
       "    }\n",
       "</style>\n",
       "<table border=\"1\" class=\"dataframe\">\n",
       "  <thead>\n",
       "    <tr style=\"text-align: right;\">\n",
       "      <th></th>\n",
       "      <th>delivery</th>\n",
       "      <th>consumption</th>\n",
       "    </tr>\n",
       "  </thead>\n",
       "  <tbody>\n",
       "    <tr>\n",
       "      <td>31</td>\n",
       "      <td>0.003</td>\n",
       "      <td>0.115</td>\n",
       "    </tr>\n",
       "    <tr>\n",
       "      <td>32</td>\n",
       "      <td>0.023</td>\n",
       "      <td>0.000</td>\n",
       "    </tr>\n",
       "    <tr>\n",
       "      <td>33</td>\n",
       "      <td>0.022</td>\n",
       "      <td>0.001</td>\n",
       "    </tr>\n",
       "    <tr>\n",
       "      <td>34</td>\n",
       "      <td>0.055</td>\n",
       "      <td>0.000</td>\n",
       "    </tr>\n",
       "    <tr>\n",
       "      <td>35</td>\n",
       "      <td>0.063</td>\n",
       "      <td>0.128</td>\n",
       "    </tr>\n",
       "    <tr>\n",
       "      <td>...</td>\n",
       "      <td>...</td>\n",
       "      <td>...</td>\n",
       "    </tr>\n",
       "    <tr>\n",
       "      <td>1532842</td>\n",
       "      <td>0.111</td>\n",
       "      <td>0.003</td>\n",
       "    </tr>\n",
       "    <tr>\n",
       "      <td>1532843</td>\n",
       "      <td>0.091</td>\n",
       "      <td>0.000</td>\n",
       "    </tr>\n",
       "    <tr>\n",
       "      <td>1532844</td>\n",
       "      <td>0.097</td>\n",
       "      <td>0.003</td>\n",
       "    </tr>\n",
       "    <tr>\n",
       "      <td>1532845</td>\n",
       "      <td>0.075</td>\n",
       "      <td>0.000</td>\n",
       "    </tr>\n",
       "    <tr>\n",
       "      <td>1532846</td>\n",
       "      <td>0.026</td>\n",
       "      <td>0.005</td>\n",
       "    </tr>\n",
       "  </tbody>\n",
       "</table>\n",
       "<p>531428 rows × 2 columns</p>\n",
       "</div>"
      ],
      "text/plain": [
       "         delivery  consumption\n",
       "31          0.003        0.115\n",
       "32          0.023        0.000\n",
       "33          0.022        0.001\n",
       "34          0.055        0.000\n",
       "35          0.063        0.128\n",
       "...           ...          ...\n",
       "1532842     0.111        0.003\n",
       "1532843     0.091        0.000\n",
       "1532844     0.097        0.003\n",
       "1532845     0.075        0.000\n",
       "1532846     0.026        0.005\n",
       "\n",
       "[531428 rows x 2 columns]"
      ]
     },
     "execution_count": 48,
     "metadata": {},
     "output_type": "execute_result"
    }
   ],
   "source": [
    "del_sol = df_deli[['delivery', 'consumption']] #storing only the columns that i want to use to train, (all of them except the target variable)\n",
    "del_sol"
   ]
  },
  {
   "cell_type": "code",
   "execution_count": 49,
   "metadata": {},
   "outputs": [],
   "source": [
    "\n",
    "#del_sol['people'] = pd.to_numeric(del_sol['people']) #converting to numeric, it was an object\n",
    "#del_sol['heating_sys'] = pd.to_numeric(del_sol['heating_sys']) #converting to numeric, it was an object\n"
   ]
  },
  {
   "cell_type": "code",
   "execution_count": 50,
   "metadata": {},
   "outputs": [
    {
     "data": {
      "text/html": [
       "<div>\n",
       "<style scoped>\n",
       "    .dataframe tbody tr th:only-of-type {\n",
       "        vertical-align: middle;\n",
       "    }\n",
       "\n",
       "    .dataframe tbody tr th {\n",
       "        vertical-align: top;\n",
       "    }\n",
       "\n",
       "    .dataframe thead th {\n",
       "        text-align: right;\n",
       "    }\n",
       "</style>\n",
       "<table border=\"1\" class=\"dataframe\">\n",
       "  <thead>\n",
       "    <tr style=\"text-align: right;\">\n",
       "      <th></th>\n",
       "      <th>0</th>\n",
       "      <th>1</th>\n",
       "    </tr>\n",
       "  </thead>\n",
       "  <tbody>\n",
       "    <tr>\n",
       "      <td>0</td>\n",
       "      <td>0.002198</td>\n",
       "      <td>0.035472</td>\n",
       "    </tr>\n",
       "    <tr>\n",
       "      <td>1</td>\n",
       "      <td>0.024176</td>\n",
       "      <td>0.000000</td>\n",
       "    </tr>\n",
       "    <tr>\n",
       "      <td>2</td>\n",
       "      <td>0.023077</td>\n",
       "      <td>0.000308</td>\n",
       "    </tr>\n",
       "    <tr>\n",
       "      <td>3</td>\n",
       "      <td>0.059341</td>\n",
       "      <td>0.000000</td>\n",
       "    </tr>\n",
       "    <tr>\n",
       "      <td>4</td>\n",
       "      <td>0.068132</td>\n",
       "      <td>0.039482</td>\n",
       "    </tr>\n",
       "    <tr>\n",
       "      <td>...</td>\n",
       "      <td>...</td>\n",
       "      <td>...</td>\n",
       "    </tr>\n",
       "    <tr>\n",
       "      <td>531423</td>\n",
       "      <td>0.120879</td>\n",
       "      <td>0.000925</td>\n",
       "    </tr>\n",
       "    <tr>\n",
       "      <td>531424</td>\n",
       "      <td>0.098901</td>\n",
       "      <td>0.000000</td>\n",
       "    </tr>\n",
       "    <tr>\n",
       "      <td>531425</td>\n",
       "      <td>0.105495</td>\n",
       "      <td>0.000925</td>\n",
       "    </tr>\n",
       "    <tr>\n",
       "      <td>531426</td>\n",
       "      <td>0.081319</td>\n",
       "      <td>0.000000</td>\n",
       "    </tr>\n",
       "    <tr>\n",
       "      <td>531427</td>\n",
       "      <td>0.027473</td>\n",
       "      <td>0.001542</td>\n",
       "    </tr>\n",
       "  </tbody>\n",
       "</table>\n",
       "<p>531428 rows × 2 columns</p>\n",
       "</div>"
      ],
      "text/plain": [
       "               0         1\n",
       "0       0.002198  0.035472\n",
       "1       0.024176  0.000000\n",
       "2       0.023077  0.000308\n",
       "3       0.059341  0.000000\n",
       "4       0.068132  0.039482\n",
       "...          ...       ...\n",
       "531423  0.120879  0.000925\n",
       "531424  0.098901  0.000000\n",
       "531425  0.105495  0.000925\n",
       "531426  0.081319  0.000000\n",
       "531427  0.027473  0.001542\n",
       "\n",
       "[531428 rows x 2 columns]"
      ]
     },
     "execution_count": 50,
     "metadata": {},
     "output_type": "execute_result"
    }
   ],
   "source": [
    "x = del_sol.values #returns a numpy array\n",
    "min_max_scaler = preprocessing.MinMaxScaler()\n",
    "x_scaled = min_max_scaler.fit_transform(x)\n",
    "df_norm = pd.DataFrame(x_scaled)\n",
    "\n",
    "df_norm"
   ]
  },
  {
   "cell_type": "code",
   "execution_count": 51,
   "metadata": {},
   "outputs": [
    {
     "name": "stdout",
     "output_type": "stream",
     "text": [
      "[ 8  9 10 11 12 13 14 15 17]\n"
     ]
    },
    {
     "name": "stderr",
     "output_type": "stream",
     "text": [
      "/opt/jupyterhub/anaconda/lib/python3.6/site-packages/ipykernel_launcher.py:4: SettingWithCopyWarning: \n",
      "A value is trying to be set on a copy of a slice from a DataFrame.\n",
      "Try using .loc[row_indexer,col_indexer] = value instead\n",
      "\n",
      "See the caveats in the documentation: http://pandas.pydata.org/pandas-docs/stable/user_guide/indexing.html#returning-a-view-versus-a-copy\n",
      "  after removing the cwd from sys.path.\n"
     ]
    },
    {
     "data": {
      "text/plain": [
       "array([1.        , 0.66666667, 0.11111111, 0.33333333, 0.55555556,\n",
       "       0.77777778, 0.        , 0.22222222, 0.44444444])"
      ]
     },
     "execution_count": 51,
     "metadata": {},
     "output_type": "execute_result"
    }
   ],
   "source": [
    "total = df_norm.values #array converting from the normalized dataframe \n",
    "\n",
    "\n",
    "df_deli['solar_panels'] = pd.to_numeric(df_deli['solar_panels']) #converting to numeric, it was an object\n",
    "\n",
    "output = df_deli['solar_panels'] #storing the target variable column\n",
    "print(np.unique(output))\n",
    "\n",
    "output_norm = (output-np.min(output))/(np.max(output)-np.min(output)) #target variable normalitation\n",
    "output_norm.unique() #4 groups of people"
   ]
  },
  {
   "cell_type": "code",
   "execution_count": 52,
   "metadata": {},
   "outputs": [],
   "source": [
    "X_train, X_test, Y_train, Y_test = train_test_split(total, output_norm, test_size=0.3) #splitin the 30% of the data to test"
   ]
  },
  {
   "cell_type": "code",
   "execution_count": 53,
   "metadata": {},
   "outputs": [],
   "source": [
    "#reshaping the model because i only use 2 input neurons here\n",
    "model = Sequential()\n",
    "model.add(Dense(units = 10, input_dim = 2, activation = 'relu'))"
   ]
  },
  {
   "cell_type": "code",
   "execution_count": 54,
   "metadata": {},
   "outputs": [],
   "source": [
    "model.add(Dense(1, activation = 'sigmoid')) #3 diferent groups ##sigmoid"
   ]
  },
  {
   "cell_type": "code",
   "execution_count": 55,
   "metadata": {},
   "outputs": [],
   "source": [
    "lr= 0.1 \n",
    "\n",
    "model.compile(loss = 'mean_squared_error', optimizer = keras.optimizers.Adam(lr), metrics = ['accuracy'])\n"
   ]
  },
  {
   "cell_type": "code",
   "execution_count": 56,
   "metadata": {
    "scrolled": true
   },
   "outputs": [
    {
     "name": "stdout",
     "output_type": "stream",
     "text": [
      "Train on 334799 samples, validate on 37200 samples\n",
      "Epoch 1/5\n",
      "334799/334799 [==============================] - 21s 62us/step - loss: 0.0597 - acc: 0.0364 - val_loss: 0.0592 - val_acc: 0.0383\n",
      "Epoch 2/5\n",
      "334799/334799 [==============================] - 20s 60us/step - loss: 0.0596 - acc: 0.0365 - val_loss: 0.0594 - val_acc: 0.0357\n",
      "Epoch 3/5\n",
      "334799/334799 [==============================] - 20s 61us/step - loss: 0.0596 - acc: 0.0364 - val_loss: 0.0589 - val_acc: 0.0342\n",
      "Epoch 4/5\n",
      "334799/334799 [==============================] - 20s 59us/step - loss: 0.0597 - acc: 0.0360 - val_loss: 0.0594 - val_acc: 0.0328\n",
      "Epoch 5/5\n",
      "334799/334799 [==============================] - 20s 60us/step - loss: 0.0596 - acc: 0.0362 - val_loss: 0.0593 - val_acc: 0.0351\n"
     ]
    }
   ],
   "source": [
    "history = model.fit(X_train, Y_train,validation_split = 0.1,  epochs = 5) #storing in the history variable to plot it after (loss and accuracy)\n"
   ]
  },
  {
   "cell_type": "code",
   "execution_count": 57,
   "metadata": {},
   "outputs": [
    {
     "name": "stdout",
     "output_type": "stream",
     "text": [
      "159429/159429 [==============================] - 3s 22us/step\n"
     ]
    },
    {
     "data": {
      "text/plain": [
       "[0.059744554587982814, 0.036530367749907484]"
      ]
     },
     "execution_count": 57,
     "metadata": {},
     "output_type": "execute_result"
    }
   ],
   "source": [
    "model.evaluate(X_test,Y_test)"
   ]
  },
  {
   "cell_type": "code",
   "execution_count": 58,
   "metadata": {},
   "outputs": [
    {
     "data": {
      "image/png": "[encoded data removed]",
      "text/plain": [
       "<Figure size 432x288 with 1 Axes>"
      ]
     },
     "metadata": {
      "needs_background": "light"
     },
     "output_type": "display_data"
    },
    {
     "data": {
      "image/png": "[encoded data removed]",
      "text/plain": [
       "<Figure size 432x288 with 1 Axes>"
      ]
     },
     "metadata": {
      "needs_background": "light"
     },
     "output_type": "display_data"
    }
   ],
   "source": [
    "# Plot training & validation accuracy values\n",
    "plt.plot(history.history['acc'])\n",
    "plt.plot(history.history['val_acc'])\n",
    "plt.title('Model accuracy')\n",
    "plt.ylabel('Accuracy')\n",
    "plt.xlabel('Epoch')\n",
    "plt.legend(['Train', 'Test'], loc='upper left')\n",
    "plt.show()\n",
    "\n",
    "# Plot training & validation loss values\n",
    "plt.plot(history.history['loss'])\n",
    "plt.plot(history.history['val_loss'])\n",
    "plt.title('Model loss')\n",
    "plt.ylabel('Loss')\n",
    "plt.xlabel('Epoch')\n",
    "plt.legend(['Train', 'Test'], loc='upper left')\n",
    "plt.show()"
   ]
  },
  {
   "cell_type": "code",
   "execution_count": 59,
   "metadata": {},
   "outputs": [],
   "source": [
    "X_predict = model.predict(X_test)\n",
    "X_predict = X_predict.flatten()"
   ]
  },
  {
   "cell_type": "code",
   "execution_count": 60,
   "metadata": {},
   "outputs": [],
   "source": [
    "#Y_test = Y_test.values\n",
    "test = Y_test.values"
   ]
  },
  {
   "cell_type": "code",
   "execution_count": 61,
   "metadata": {},
   "outputs": [],
   "source": [
    "#rounding the prediction in order to classify better, the model give us 0.99 for example but its close to 1, this is the reason\n",
    "#the model give to us only a nearly 50% accuracy\n",
    "X_predict_round = np.around(X_predict, decimals=1)\n",
    "test = np.around(test, decimals=1)\n",
    "\n"
   ]
  },
  {
   "cell_type": "code",
   "execution_count": 62,
   "metadata": {},
   "outputs": [
    {
     "name": "stdout",
     "output_type": "stream",
     "text": [
      "[[ 4  1  0  0  0  0  0  0  0]\n",
      " [ 0  0  0  0  0  0  0  0  0]\n",
      " [48  2  0  0  0  0  0  0  0]\n",
      " [ 0  0  0  0  0  0  0  0  0]\n",
      " [ 0  0  0  0  0  0  0  0  0]\n",
      " [ 0  0  0  0  0  0  0  0  0]\n",
      " [ 0  0  0  0  0  0  0  0  0]\n",
      " [ 0  0  0  0  0  0  0  0  0]\n",
      " [ 0  0  0  0  0  0  0  0  0]]\n"
     ]
    },
    {
     "data": {
      "image/png": "[encoded data removed]",
      "text/plain": [
       "<Figure size 432x288 with 2 Axes>"
      ]
     },
     "metadata": {
      "needs_background": "light"
     },
     "output_type": "display_data"
    },
    {
     "name": "stdout",
     "output_type": "stream",
     "text": [
      "\n"
     ]
    }
   ],
   "source": [
    "from sklearn.metrics import confusion_matrix\n",
    "\n",
    "y_test = test * 10 #multiply to 10 to avoid the decimals (the confusion matrix get integers)\n",
    "\n",
    "pred = X_predict_round*10 #multiply to 10 to avoid the decimals (the confusion matrix get integers)\n",
    "\n",
    "labels = [8,9,10,11,12,13,14,15,17] #the 3 labels we want to find (remember thereare the normalized data * 10)\n",
    "cm = confusion_matrix(y_test, pred, labels)\n",
    "print(cm)\n",
    "fig = plt.figure()\n",
    "ax = fig.add_subplot(111)\n",
    "cax = ax.matshow(cm)\n",
    "plt.title('Confusion matrix of the classifier')\n",
    "fig.colorbar(cax)\n",
    "ax.set_xticklabels([''] + ['8','9','10','11','12','13','14','15','17'])\n",
    "ax.set_yticklabels([''] + ['8','9','10','11','12','13','14','15','17'])\n",
    "plt.xlabel('Predicted')\n",
    "plt.ylabel('True')\n",
    "\n",
    "plt.show()\n",
    "\n",
    "print()"
   ]
  },
  {
   "cell_type": "code",
   "execution_count": null,
   "metadata": {},
   "outputs": [],
   "source": []
  },
  {
   "cell_type": "code",
   "execution_count": 63,
   "metadata": {},
   "outputs": [
    {
     "name": "stdout",
     "output_type": "stream",
     "text": [
      "              precision    recall  f1-score   support\n",
      "\n",
      "         0.0       0.00      0.00      0.00      4340\n",
      "         1.0       0.00      0.00      0.00     26323\n",
      "         2.0       0.00      0.00      0.00     17402\n",
      "         3.0       0.00      0.00      0.00     26159\n",
      "         4.0       0.11      0.84      0.19     17586\n",
      "         5.0       0.00      0.00      0.00         0\n",
      "         6.0       0.25      0.07      0.11     19636\n",
      "         7.0       0.21      0.01      0.01     30338\n",
      "         8.0       0.03      0.00      0.00     11349\n",
      "         9.0       0.00      0.00      0.00         0\n",
      "        10.0       0.00      0.00      0.00      6296\n",
      "\n",
      "    accuracy                           0.10    159429\n",
      "   macro avg       0.05      0.08      0.03    159429\n",
      "weighted avg       0.08      0.10      0.04    159429\n",
      "\n"
     ]
    },
    {
     "name": "stderr",
     "output_type": "stream",
     "text": [
      "/opt/jupyterhub/anaconda/lib/python3.6/site-packages/sklearn/metrics/classification.py:1437: UndefinedMetricWarning: Precision and F-score are ill-defined and being set to 0.0 in labels with no predicted samples.\n",
      "  'precision', 'predicted', average, warn_for)\n",
      "/opt/jupyterhub/anaconda/lib/python3.6/site-packages/sklearn/metrics/classification.py:1439: UndefinedMetricWarning: Recall and F-score are ill-defined and being set to 0.0 in labels with no true samples.\n",
      "  'recall', 'true', average, warn_for)\n"
     ]
    }
   ],
   "source": [
    "from sklearn.metrics import classification_report\n",
    "print(classification_report(y_test,pred))"
   ]
  },
  {
   "cell_type": "code",
   "execution_count": null,
   "metadata": {},
   "outputs": [],
   "source": []
  }
 ],
 "metadata": {
  "kernelspec": {
   "display_name": "Python 3",
   "language": "python",
   "name": "python3"
  },
  "language_info": {
   "codemirror_mode": {
    "name": "ipython",
    "version": 3
   },
   "file_extension": ".py",
   "mimetype": "text/x-python",
   "name": "python",
   "nbconvert_exporter": "python",
   "pygments_lexer": "ipython3",
   "version": "3.6.8"
  }
 },
 "nbformat": 4,
 "nbformat_minor": 2
}
