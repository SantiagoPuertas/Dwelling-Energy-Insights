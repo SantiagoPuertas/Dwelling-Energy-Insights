{
 "cells": [
  {
   "cell_type": "code",
   "execution_count": 1,
   "metadata": {},
   "outputs": [],
   "source": [
    "# Importing packages for analyzing useses\n",
    "import pandas as pd\n",
    "import numpy as np\n",
    "\n",
    "from sklearn import preprocessing, neighbors\n",
    "from sklearn.preprocessing import label_binarize\n",
    "from sklearn.model_selection import train_test_split, GridSearchCV\n",
    "from sklearn.metrics import confusion_matrix\n",
    "from sklearn.utils.multiclass import unique_labels\n",
    "from sklearn.metrics import classification_report, roc_curve, auc\n",
    "from sklearn.linear_model import LogisticRegression\n",
    "from sklearn.svm import SVC\n",
    "from sklearn.model_selection import cross_val_score\n",
    "\n",
    "import seaborn as sns\n",
    "from pylab import rcParams\n",
    "import matplotlib.pyplot as plt\n",
    "from matplotlib.colors import ListedColormap\n",
    "\n",
    "from numpy.linalg import *\n",
    "import math\n",
    "from datetime import datetime\n",
    "from datetime import timedelta"
   ]
  },
  {
   "cell_type": "code",
   "execution_count": 2,
   "metadata": {},
   "outputs": [
    {
     "data": {
      "text/html": [
       "<div>\n",
       "<style scoped>\n",
       "    .dataframe tbody tr th:only-of-type {\n",
       "        vertical-align: middle;\n",
       "    }\n",
       "\n",
       "    .dataframe tbody tr th {\n",
       "        vertical-align: top;\n",
       "    }\n",
       "\n",
       "    .dataframe thead th {\n",
       "        text-align: right;\n",
       "    }\n",
       "</style>\n",
       "<table border=\"1\" class=\"dataframe\">\n",
       "  <thead>\n",
       "    <tr style=\"text-align: right;\">\n",
       "      <th></th>\n",
       "      <th>H01</th>\n",
       "      <th>H02</th>\n",
       "      <th>H03</th>\n",
       "      <th>H04</th>\n",
       "      <th>H06</th>\n",
       "      <th>H07</th>\n",
       "      <th>H08</th>\n",
       "      <th>H09</th>\n",
       "      <th>H11</th>\n",
       "      <th>H13</th>\n",
       "      <th>...</th>\n",
       "      <th>H27</th>\n",
       "      <th>H28</th>\n",
       "      <th>H29</th>\n",
       "      <th>H31</th>\n",
       "      <th>H32</th>\n",
       "      <th>H33</th>\n",
       "      <th>T</th>\n",
       "      <th>SQ</th>\n",
       "      <th>Q</th>\n",
       "      <th>N</th>\n",
       "    </tr>\n",
       "  </thead>\n",
       "  <tbody>\n",
       "    <tr>\n",
       "      <th>2017-09-12 00:15:00</th>\n",
       "      <td>0.0</td>\n",
       "      <td>0.0</td>\n",
       "      <td>0.0</td>\n",
       "      <td>0.0</td>\n",
       "      <td>0.0</td>\n",
       "      <td>0.0</td>\n",
       "      <td>0.0</td>\n",
       "      <td>0.0</td>\n",
       "      <td>0.0</td>\n",
       "      <td>0.0</td>\n",
       "      <td>...</td>\n",
       "      <td>0.0</td>\n",
       "      <td>0.0</td>\n",
       "      <td>0.0</td>\n",
       "      <td>0.0</td>\n",
       "      <td>0.0</td>\n",
       "      <td>0.0</td>\n",
       "      <td>14.8</td>\n",
       "      <td>0.0</td>\n",
       "      <td>0.0</td>\n",
       "      <td>7.0</td>\n",
       "    </tr>\n",
       "    <tr>\n",
       "      <th>2017-09-12 00:30:00</th>\n",
       "      <td>0.0</td>\n",
       "      <td>0.0</td>\n",
       "      <td>0.0</td>\n",
       "      <td>0.0</td>\n",
       "      <td>0.0</td>\n",
       "      <td>0.0</td>\n",
       "      <td>0.0</td>\n",
       "      <td>0.0</td>\n",
       "      <td>0.0</td>\n",
       "      <td>0.0</td>\n",
       "      <td>...</td>\n",
       "      <td>0.0</td>\n",
       "      <td>0.0</td>\n",
       "      <td>0.0</td>\n",
       "      <td>0.0</td>\n",
       "      <td>0.0</td>\n",
       "      <td>0.0</td>\n",
       "      <td>14.8</td>\n",
       "      <td>0.0</td>\n",
       "      <td>0.0</td>\n",
       "      <td>7.0</td>\n",
       "    </tr>\n",
       "  </tbody>\n",
       "</table>\n",
       "<p>2 rows × 32 columns</p>\n",
       "</div>"
      ],
      "text/plain": [
       "                     H01  H02  H03  H04  H06  H07  H08  H09  H11  H13  ...  \\\n",
       "2017-09-12 00:15:00  0.0  0.0  0.0  0.0  0.0  0.0  0.0  0.0  0.0  0.0  ...   \n",
       "2017-09-12 00:30:00  0.0  0.0  0.0  0.0  0.0  0.0  0.0  0.0  0.0  0.0  ...   \n",
       "\n",
       "                     H27  H28  H29  H31  H32  H33     T   SQ    Q    N  \n",
       "2017-09-12 00:15:00  0.0  0.0  0.0  0.0  0.0  0.0  14.8  0.0  0.0  7.0  \n",
       "2017-09-12 00:30:00  0.0  0.0  0.0  0.0  0.0  0.0  14.8  0.0  0.0  7.0  \n",
       "\n",
       "[2 rows x 32 columns]"
      ]
     },
     "metadata": {},
     "output_type": "display_data"
    },
    {
     "data": {
      "text/plain": [
       "(54745, 32)"
      ]
     },
     "metadata": {},
     "output_type": "display_data"
    },
    {
     "data": {
      "text/html": [
       "<div>\n",
       "<style scoped>\n",
       "    .dataframe tbody tr th:only-of-type {\n",
       "        vertical-align: middle;\n",
       "    }\n",
       "\n",
       "    .dataframe tbody tr th {\n",
       "        vertical-align: top;\n",
       "    }\n",
       "\n",
       "    .dataframe thead th {\n",
       "        text-align: right;\n",
       "    }\n",
       "</style>\n",
       "<table border=\"1\" class=\"dataframe\">\n",
       "  <thead>\n",
       "    <tr style=\"text-align: right;\">\n",
       "      <th></th>\n",
       "      <th>H01</th>\n",
       "      <th>H02</th>\n",
       "      <th>H03</th>\n",
       "      <th>H04</th>\n",
       "      <th>H06</th>\n",
       "      <th>H07</th>\n",
       "      <th>H08</th>\n",
       "      <th>H09</th>\n",
       "      <th>H11</th>\n",
       "      <th>H13</th>\n",
       "      <th>...</th>\n",
       "      <th>H27</th>\n",
       "      <th>H28</th>\n",
       "      <th>H29</th>\n",
       "      <th>H31</th>\n",
       "      <th>H32</th>\n",
       "      <th>H33</th>\n",
       "      <th>T</th>\n",
       "      <th>SQ</th>\n",
       "      <th>Q</th>\n",
       "      <th>N</th>\n",
       "    </tr>\n",
       "  </thead>\n",
       "  <tbody>\n",
       "    <tr>\n",
       "      <th>2017-09-12 00:15:00</th>\n",
       "      <td>0.031</td>\n",
       "      <td>0.048</td>\n",
       "      <td>0.027</td>\n",
       "      <td>0.017</td>\n",
       "      <td>0.074</td>\n",
       "      <td>0.012</td>\n",
       "      <td>0.023</td>\n",
       "      <td>0.055</td>\n",
       "      <td>0.075</td>\n",
       "      <td>0.131</td>\n",
       "      <td>...</td>\n",
       "      <td>0.096</td>\n",
       "      <td>0.025</td>\n",
       "      <td>0.024</td>\n",
       "      <td>0.299</td>\n",
       "      <td>0.027</td>\n",
       "      <td>0.022</td>\n",
       "      <td>14.8</td>\n",
       "      <td>0.0</td>\n",
       "      <td>0.0</td>\n",
       "      <td>7.0</td>\n",
       "    </tr>\n",
       "    <tr>\n",
       "      <th>2017-09-12 00:30:00</th>\n",
       "      <td>0.037</td>\n",
       "      <td>0.023</td>\n",
       "      <td>0.034</td>\n",
       "      <td>0.015</td>\n",
       "      <td>0.069</td>\n",
       "      <td>0.024</td>\n",
       "      <td>0.020</td>\n",
       "      <td>0.036</td>\n",
       "      <td>0.071</td>\n",
       "      <td>0.088</td>\n",
       "      <td>...</td>\n",
       "      <td>0.152</td>\n",
       "      <td>0.018</td>\n",
       "      <td>0.028</td>\n",
       "      <td>0.325</td>\n",
       "      <td>0.021</td>\n",
       "      <td>0.042</td>\n",
       "      <td>14.8</td>\n",
       "      <td>0.0</td>\n",
       "      <td>0.0</td>\n",
       "      <td>7.0</td>\n",
       "    </tr>\n",
       "  </tbody>\n",
       "</table>\n",
       "<p>2 rows × 32 columns</p>\n",
       "</div>"
      ],
      "text/plain": [
       "                       H01    H02    H03    H04    H06    H07    H08    H09  \\\n",
       "2017-09-12 00:15:00  0.031  0.048  0.027  0.017  0.074  0.012  0.023  0.055   \n",
       "2017-09-12 00:30:00  0.037  0.023  0.034  0.015  0.069  0.024  0.020  0.036   \n",
       "\n",
       "                       H11    H13  ...    H27    H28    H29    H31    H32  \\\n",
       "2017-09-12 00:15:00  0.075  0.131  ...  0.096  0.025  0.024  0.299  0.027   \n",
       "2017-09-12 00:30:00  0.071  0.088  ...  0.152  0.018  0.028  0.325  0.021   \n",
       "\n",
       "                       H33     T   SQ    Q    N  \n",
       "2017-09-12 00:15:00  0.022  14.8  0.0  0.0  7.0  \n",
       "2017-09-12 00:30:00  0.042  14.8  0.0  0.0  7.0  \n",
       "\n",
       "[2 rows x 32 columns]"
      ]
     },
     "metadata": {},
     "output_type": "display_data"
    },
    {
     "data": {
      "text/plain": [
       "(54745, 32)"
      ]
     },
     "metadata": {},
     "output_type": "display_data"
    }
   ],
   "source": [
    "# Import the data and making a dataframe out of it\n",
    "df_deli = pd.read_csv('../Data/Delivery.csv')\n",
    "df_cons = pd.read_csv('../Data/Consumption.csv')\n",
    "df_info = pd.read_csv('../Data/Information.csv')\n",
    "df_weather = pd.read_csv('../../Data/KNMI_Voorschoten_20170711_20190601.csv')\n",
    "\n",
    "# Setting indexes\n",
    "df_deli.set_index('ID-nummer',inplace=True)\n",
    "df_deli.index = pd.to_datetime(df_deli.index)\n",
    "df_deli.index.names = ['date']\n",
    "\n",
    "df_cons.set_index('ID-nummer',inplace=True)\n",
    "df_cons.index = pd.to_datetime(df_cons.index)\n",
    "df_cons.index.names = ['date']\n",
    "\n",
    "df_info.set_index('ID-nummer',inplace=True)\n",
    "df_info.index.names = ['date']\n",
    "\n",
    "df_weather.set_index('Date_and_time',inplace=True)\n",
    "df_weather = df_weather.loc['2017-09-12':'2019-06-01 00:00:00']\n",
    "df_weather.index = pd.to_datetime(df_weather.index)\n",
    "df_weather.index.names = ['date']\n",
    "df_weather = df_weather.apply(pd.to_numeric)\n",
    "\n",
    "# Creating first row to datasets\n",
    "top_row = [0 for col in df_deli.columns]\n",
    "df_top_row = pd.DataFrame(top_row).transpose()\n",
    "\n",
    "s_top_row = pd.Series([pd.to_datetime('2017-09-12 00:00:00')])\n",
    "df_top_row.set_index(s_top_row, inplace=True)\n",
    "df_top_row.columns = df_deli.columns\n",
    "\n",
    "# Adding first row to the datasets\n",
    "df_deli = pd.concat([df_top_row, df_deli])\n",
    "df_cons = pd.concat([df_top_row, df_cons])\n",
    "\n",
    "# Joining datasets\n",
    "df_deli = df_deli.join(df_weather)\n",
    "df_cons = df_cons.join(df_weather)\n",
    "\n",
    "# Filling NaN temperature values with the previous ones\n",
    "df_deli.fillna(method='ffill', inplace=True)\n",
    "df_cons.fillna(method='ffill', inplace=True)\n",
    "\n",
    "# Deleting first row (dummy row)\n",
    "df_deli = df_deli.iloc[1:]\n",
    "df_cons = df_cons.iloc[1:]\n",
    "\n",
    "display(df_deli.head(2))\n",
    "display(df_deli.shape)\n",
    "display(df_cons.head(2))\n",
    "display(df_cons.shape)"
   ]
  },
  {
   "cell_type": "markdown",
   "metadata": {},
   "source": [
    "## Balancing the dataset out"
   ]
  },
  {
   "cell_type": "code",
   "execution_count": 3,
   "metadata": {},
   "outputs": [
    {
     "data": {
      "text/plain": [
       "WP     13\n",
       "E      10\n",
       "Zon     5\n",
       "Name: concept, dtype: int64"
      ]
     },
     "execution_count": 3,
     "metadata": {},
     "output_type": "execute_result"
    }
   ],
   "source": [
    "df_info.transpose()['concept'].value_counts()"
   ]
  },
  {
   "cell_type": "code",
   "execution_count": 4,
   "metadata": {},
   "outputs": [
    {
     "data": {
      "text/plain": [
       "\"df_deli = df_deli[['H01','H02','H06','H15','H29','H03','H04','H11','H23','H27','H20','H22','H25','H28','H32','T','SQ','Q','N']]\\ndf_cons = df_cons[['H01','H02','H06','H15','H29','H03','H04','H11','H23','H27','H20','H22','H25','H28','H32','T','SQ','Q','N']]\\ndf_info = df_info[['H01','H02','H06','H15','H29','H03','H04','H11','H23','H27','H20','H22','H25','H28','H32']]\""
      ]
     },
     "execution_count": 4,
     "metadata": {},
     "output_type": "execute_result"
    }
   ],
   "source": [
    "'''df_deli = df_deli[['H01','H02','H06','H15','H29','H03','H04','H11','H23','H27','H20','H22','H25','H28','H32','T','SQ','Q','N']]\n",
    "df_cons = df_cons[['H01','H02','H06','H15','H29','H03','H04','H11','H23','H27','H20','H22','H25','H28','H32','T','SQ','Q','N']]\n",
    "df_info = df_info[['H01','H02','H06','H15','H29','H03','H04','H11','H23','H27','H20','H22','H25','H28','H32']]'''"
   ]
  },
  {
   "cell_type": "code",
   "execution_count": 5,
   "metadata": {},
   "outputs": [],
   "source": [
    "df_deli = df_deli.groupby([df_deli.index.year, df_deli.index.month, df_deli.index.week]).agg({'H01':'sum',\n",
    "                                                   'H02':'sum',\n",
    "                                                   'H03':'sum',\n",
    "                                                   'H04':'sum',\n",
    "                                                   'H06':'sum',\n",
    "                                                   'H07':'sum',\n",
    "                                                   'H08':'sum',\n",
    "                                                   'H09':'sum',\n",
    "                                                   'H11':'sum',\n",
    "                                                   'H13':'sum',\n",
    "                                                   'H15':'sum',\n",
    "                                                   'H16':'sum',\n",
    "                                                   'H17':'sum',\n",
    "                                                   'H18':'sum',\n",
    "                                                   'H19':'sum',\n",
    "                                                   'H20':'sum',\n",
    "                                                   'H21':'sum',\n",
    "                                                   'H22':'sum',\n",
    "                                                   'H23':'sum',\n",
    "                                                   'H24':'sum',\n",
    "                                                   'H25':'sum',\n",
    "                                                   'H26':'sum',\n",
    "                                                   'H27':'sum',\n",
    "                                                   'H28':'sum',\n",
    "                                                   'H29':'sum',\n",
    "                                                   'H31':'sum',\n",
    "                                                   'H32':'sum',\n",
    "                                                   'H33':'sum',\n",
    "                                                   'T':'mean',\n",
    "                                                   'SQ':'mean',\n",
    "                                                   'Q':'mean',\n",
    "                                                   'N':'mean',\n",
    "                                                  })\n",
    "df_cons = df_cons.groupby([df_cons.index.year, df_cons.index.month, df_cons.index.week]).agg({'H01':'sum',\n",
    "                                                   'H02':'sum',\n",
    "                                                   'H03':'sum',\n",
    "                                                   'H04':'sum',\n",
    "                                                   'H06':'sum',\n",
    "                                                   'H07':'sum',\n",
    "                                                   'H08':'sum',\n",
    "                                                   'H09':'sum',\n",
    "                                                   'H11':'sum',\n",
    "                                                   'H13':'sum',\n",
    "                                                   'H15':'sum',\n",
    "                                                   'H16':'sum',\n",
    "                                                   'H17':'sum',\n",
    "                                                   'H18':'sum',\n",
    "                                                   'H19':'sum',\n",
    "                                                   'H20':'sum',\n",
    "                                                   'H21':'sum',\n",
    "                                                   'H22':'sum',\n",
    "                                                   'H23':'sum',\n",
    "                                                   'H24':'sum',\n",
    "                                                   'H25':'sum',\n",
    "                                                   'H26':'sum',\n",
    "                                                   'H27':'sum',\n",
    "                                                   'H28':'sum',\n",
    "                                                   'H29':'sum',\n",
    "                                                   'H31':'sum',\n",
    "                                                   'H32':'sum',\n",
    "                                                   'H33':'sum',\n",
    "                                                   'T':'mean',\n",
    "                                                   'SQ':'mean',\n",
    "                                                   'Q':'mean',\n",
    "                                                   'N':'mean',\n",
    "                                                  })"
   ]
  },
  {
   "cell_type": "markdown",
   "metadata": {},
   "source": [
    "## Dummy Variables"
   ]
  },
  {
   "cell_type": "code",
   "execution_count": 6,
   "metadata": {},
   "outputs": [
    {
     "name": "stdout",
     "output_type": "stream",
     "text": [
      "['E' 'WP' 'Zon']\n",
      "(2912, 13) 2912\n"
     ]
    },
    {
     "data": {
      "text/html": [
       "<div>\n",
       "<style scoped>\n",
       "    .dataframe tbody tr th:only-of-type {\n",
       "        vertical-align: middle;\n",
       "    }\n",
       "\n",
       "    .dataframe tbody tr th {\n",
       "        vertical-align: top;\n",
       "    }\n",
       "\n",
       "    .dataframe thead th {\n",
       "        text-align: right;\n",
       "    }\n",
       "</style>\n",
       "<table border=\"1\" class=\"dataframe\">\n",
       "  <thead>\n",
       "    <tr style=\"text-align: right;\">\n",
       "      <th></th>\n",
       "      <th>delivery</th>\n",
       "      <th>consumption</th>\n",
       "      <th>T</th>\n",
       "      <th>SQ</th>\n",
       "      <th>Q</th>\n",
       "      <th>N</th>\n",
       "      <th>heating_sys</th>\n",
       "      <th>solar_panels</th>\n",
       "      <th>people</th>\n",
       "      <th>sp_group</th>\n",
       "      <th>sys_E</th>\n",
       "      <th>sys_WP</th>\n",
       "      <th>sys_Zon</th>\n",
       "    </tr>\n",
       "  </thead>\n",
       "  <tbody>\n",
       "    <tr>\n",
       "      <th>0</th>\n",
       "      <td>55.321</td>\n",
       "      <td>41.008</td>\n",
       "      <td>13.008729</td>\n",
       "      <td>2.314991</td>\n",
       "      <td>44.584440</td>\n",
       "      <td>6.529412</td>\n",
       "      <td>1</td>\n",
       "      <td>17</td>\n",
       "      <td>4</td>\n",
       "      <td>3</td>\n",
       "      <td>1</td>\n",
       "      <td>0</td>\n",
       "      <td>0</td>\n",
       "    </tr>\n",
       "    <tr>\n",
       "      <th>1</th>\n",
       "      <td>85.880</td>\n",
       "      <td>54.068</td>\n",
       "      <td>12.614158</td>\n",
       "      <td>3.031297</td>\n",
       "      <td>51.606557</td>\n",
       "      <td>5.323398</td>\n",
       "      <td>1</td>\n",
       "      <td>17</td>\n",
       "      <td>4</td>\n",
       "      <td>3</td>\n",
       "      <td>1</td>\n",
       "      <td>0</td>\n",
       "      <td>0</td>\n",
       "    </tr>\n",
       "    <tr>\n",
       "      <th>2</th>\n",
       "      <td>43.201</td>\n",
       "      <td>41.659</td>\n",
       "      <td>14.022371</td>\n",
       "      <td>1.208413</td>\n",
       "      <td>31.977055</td>\n",
       "      <td>6.386233</td>\n",
       "      <td>1</td>\n",
       "      <td>17</td>\n",
       "      <td>4</td>\n",
       "      <td>3</td>\n",
       "      <td>1</td>\n",
       "      <td>0</td>\n",
       "      <td>0</td>\n",
       "    </tr>\n",
       "    <tr>\n",
       "      <th>3</th>\n",
       "      <td>5.711</td>\n",
       "      <td>11.680</td>\n",
       "      <td>14.200000</td>\n",
       "      <td>0.958333</td>\n",
       "      <td>26.666667</td>\n",
       "      <td>7.166667</td>\n",
       "      <td>1</td>\n",
       "      <td>17</td>\n",
       "      <td>4</td>\n",
       "      <td>3</td>\n",
       "      <td>1</td>\n",
       "      <td>0</td>\n",
       "      <td>0</td>\n",
       "    </tr>\n",
       "    <tr>\n",
       "      <th>4</th>\n",
       "      <td>40.955</td>\n",
       "      <td>53.301</td>\n",
       "      <td>13.708333</td>\n",
       "      <td>1.562500</td>\n",
       "      <td>30.562500</td>\n",
       "      <td>7.152778</td>\n",
       "      <td>1</td>\n",
       "      <td>17</td>\n",
       "      <td>4</td>\n",
       "      <td>3</td>\n",
       "      <td>1</td>\n",
       "      <td>0</td>\n",
       "      <td>0</td>\n",
       "    </tr>\n",
       "  </tbody>\n",
       "</table>\n",
       "</div>"
      ],
      "text/plain": [
       "   delivery  consumption          T        SQ          Q         N  \\\n",
       "0    55.321       41.008  13.008729  2.314991  44.584440  6.529412   \n",
       "1    85.880       54.068  12.614158  3.031297  51.606557  5.323398   \n",
       "2    43.201       41.659  14.022371  1.208413  31.977055  6.386233   \n",
       "3     5.711       11.680  14.200000  0.958333  26.666667  7.166667   \n",
       "4    40.955       53.301  13.708333  1.562500  30.562500  7.152778   \n",
       "\n",
       "   heating_sys  solar_panels people  sp_group  sys_E  sys_WP  sys_Zon  \n",
       "0            1            17      4         3      1       0        0  \n",
       "1            1            17      4         3      1       0        0  \n",
       "2            1            17      4         3      1       0        0  \n",
       "3            1            17      4         3      1       0        0  \n",
       "4            1            17      4         3      1       0        0  "
      ]
     },
     "metadata": {},
     "output_type": "display_data"
    },
    {
     "data": {
      "text/plain": [
       "(2912, 13)"
      ]
     },
     "metadata": {},
     "output_type": "display_data"
    }
   ],
   "source": [
    "# Setting different columns (delivery, consumption, houses_info, dummy_variables)\n",
    "df = pd.DataFrame(columns=['delivery','consumption', 'T', 'SQ', 'Q', 'N', 'heating_sys'])\n",
    "\n",
    "num_houses_cols = len(df_deli.columns) - 4\n",
    "# Preparing the delivery and consumption arrays\n",
    "ar_deli = np.array([])\n",
    "ar_cons = np.array([])\n",
    "for col in range(num_houses_cols):\n",
    "    ar_deli = np.append(ar_deli, df_deli.values[:, col])\n",
    "    ar_cons = np.append(ar_cons, df_cons.values[:, col])\n",
    "\n",
    "# Preparing the houses information arrays\n",
    "ar_heatSystem = np.array([])\n",
    "ar_spanles = np.array([])\n",
    "ar_people = np.array([])\n",
    "for col in df_info.columns:\n",
    "    ar_heatSystem = np.append(ar_heatSystem, (df_info.loc[['concept'], [col]].values[0].tolist() * df_deli.shape[0]))\n",
    "    ar_spanles = np.append(ar_spanles, (df_info.loc[['PV-aantal'], [col]].values[0].tolist() * df_deli.shape[0]))\n",
    "    ar_people = np.append(ar_people, (df_info.loc[['personen'], [col]].values[0].tolist() * df_deli.shape[0]))\n",
    "\n",
    "# Inserting the data to the dataframe\n",
    "df['delivery'] = pd.Series(ar_deli)\n",
    "df['consumption'] = pd.Series(ar_cons)\n",
    "\n",
    "df['T'] = df_deli['T'].values.tolist() * num_houses_cols\n",
    "df['SQ'] = df_deli['SQ'].values.tolist() * num_houses_cols\n",
    "df['Q'] = df_deli['Q'].values.tolist() * num_houses_cols\n",
    "df['N'] = df_deli['N'].values.tolist() * num_houses_cols\n",
    "\n",
    "df['heating_sys'] = pd.Series(ar_heatSystem)\n",
    "df['solar_panels'] = pd.Series(ar_spanles)\n",
    "df['people'] = pd.Series(ar_people)\n",
    "\n",
    "df['solar_panels'] = pd.to_numeric(df['solar_panels'])\n",
    "\n",
    "df['sp_group'] = 0\n",
    "df.loc[(df['solar_panels'] < 11), 'sp_group'] = 1\n",
    "df.loc[(df['solar_panels'] >= 11) & (df['solar_panels'] <= 13), 'sp_group'] = 2\n",
    "df.loc[(df['solar_panels'] > 13), 'sp_group'] = 3\n",
    "\n",
    "# Dummy variables\n",
    "dummy_sys = pd.get_dummies(df['heating_sys'], prefix='sys')\n",
    "df = pd.concat([df, dummy_sys], axis=1)\n",
    "\n",
    "print(df['heating_sys'].unique())\n",
    "print(df.shape, len(ar_heatSystem))\n",
    "\n",
    "# Replacing heating system type by numbers\n",
    "df.replace('E', 1, inplace=True)\n",
    "df.replace('WP', 2, inplace=True)\n",
    "df.replace('Zon', 3, inplace=True)\n",
    "\n",
    "display(df.head())\n",
    "display(df.shape)"
   ]
  },
  {
   "cell_type": "code",
   "execution_count": 7,
   "metadata": {},
   "outputs": [
    {
     "data": {
      "text/html": [
       "<div>\n",
       "<style scoped>\n",
       "    .dataframe tbody tr th:only-of-type {\n",
       "        vertical-align: middle;\n",
       "    }\n",
       "\n",
       "    .dataframe tbody tr th {\n",
       "        vertical-align: top;\n",
       "    }\n",
       "\n",
       "    .dataframe thead th {\n",
       "        text-align: right;\n",
       "    }\n",
       "</style>\n",
       "<table border=\"1\" class=\"dataframe\">\n",
       "  <thead>\n",
       "    <tr style=\"text-align: right;\">\n",
       "      <th></th>\n",
       "      <th>H01</th>\n",
       "      <th>H02</th>\n",
       "      <th>H03</th>\n",
       "      <th>H04</th>\n",
       "      <th>H06</th>\n",
       "      <th>H07</th>\n",
       "      <th>H08</th>\n",
       "      <th>H09</th>\n",
       "      <th>H11</th>\n",
       "      <th>H13</th>\n",
       "      <th>...</th>\n",
       "      <th>H23</th>\n",
       "      <th>H24</th>\n",
       "      <th>H25</th>\n",
       "      <th>H26</th>\n",
       "      <th>H27</th>\n",
       "      <th>H28</th>\n",
       "      <th>H29</th>\n",
       "      <th>H31</th>\n",
       "      <th>H32</th>\n",
       "      <th>H33</th>\n",
       "    </tr>\n",
       "    <tr>\n",
       "      <th>date</th>\n",
       "      <th></th>\n",
       "      <th></th>\n",
       "      <th></th>\n",
       "      <th></th>\n",
       "      <th></th>\n",
       "      <th></th>\n",
       "      <th></th>\n",
       "      <th></th>\n",
       "      <th></th>\n",
       "      <th></th>\n",
       "      <th></th>\n",
       "      <th></th>\n",
       "      <th></th>\n",
       "      <th></th>\n",
       "      <th></th>\n",
       "      <th></th>\n",
       "      <th></th>\n",
       "      <th></th>\n",
       "      <th></th>\n",
       "      <th></th>\n",
       "      <th></th>\n",
       "    </tr>\n",
       "  </thead>\n",
       "  <tbody>\n",
       "    <tr>\n",
       "      <th>concept</th>\n",
       "      <td>E</td>\n",
       "      <td>E</td>\n",
       "      <td>WP</td>\n",
       "      <td>WP</td>\n",
       "      <td>E</td>\n",
       "      <td>E</td>\n",
       "      <td>E</td>\n",
       "      <td>E</td>\n",
       "      <td>WP</td>\n",
       "      <td>E</td>\n",
       "      <td>...</td>\n",
       "      <td>WP</td>\n",
       "      <td>WP</td>\n",
       "      <td>Zon</td>\n",
       "      <td>WP</td>\n",
       "      <td>WP</td>\n",
       "      <td>Zon</td>\n",
       "      <td>E</td>\n",
       "      <td>WP</td>\n",
       "      <td>Zon</td>\n",
       "      <td>WP</td>\n",
       "    </tr>\n",
       "    <tr>\n",
       "      <th>PV-aantal</th>\n",
       "      <td>17</td>\n",
       "      <td>14</td>\n",
       "      <td>9</td>\n",
       "      <td>11</td>\n",
       "      <td>14</td>\n",
       "      <td>13</td>\n",
       "      <td>9</td>\n",
       "      <td>14</td>\n",
       "      <td>9</td>\n",
       "      <td>15</td>\n",
       "      <td>...</td>\n",
       "      <td>11</td>\n",
       "      <td>11</td>\n",
       "      <td>13</td>\n",
       "      <td>12</td>\n",
       "      <td>9</td>\n",
       "      <td>13</td>\n",
       "      <td>14</td>\n",
       "      <td>15</td>\n",
       "      <td>12</td>\n",
       "      <td>10</td>\n",
       "    </tr>\n",
       "    <tr>\n",
       "      <th>personen</th>\n",
       "      <td>4</td>\n",
       "      <td>2</td>\n",
       "      <td>4</td>\n",
       "      <td>1</td>\n",
       "      <td>4</td>\n",
       "      <td>2</td>\n",
       "      <td>4</td>\n",
       "      <td>1</td>\n",
       "      <td>1</td>\n",
       "      <td>3</td>\n",
       "      <td>...</td>\n",
       "      <td>2</td>\n",
       "      <td>2</td>\n",
       "      <td>2</td>\n",
       "      <td>2</td>\n",
       "      <td>3</td>\n",
       "      <td>2</td>\n",
       "      <td>1</td>\n",
       "      <td>2</td>\n",
       "      <td>4</td>\n",
       "      <td>1</td>\n",
       "    </tr>\n",
       "  </tbody>\n",
       "</table>\n",
       "<p>3 rows × 28 columns</p>\n",
       "</div>"
      ],
      "text/plain": [
       "          H01 H02 H03 H04 H06 H07 H08 H09 H11 H13  ... H23 H24  H25 H26 H27  \\\n",
       "date                                               ...                        \n",
       "concept     E   E  WP  WP   E   E   E   E  WP   E  ...  WP  WP  Zon  WP  WP   \n",
       "PV-aantal  17  14   9  11  14  13   9  14   9  15  ...  11  11   13  12   9   \n",
       "personen    4   2   4   1   4   2   4   1   1   3  ...   2   2    2   2   3   \n",
       "\n",
       "           H28 H29 H31  H32 H33  \n",
       "date                             \n",
       "concept    Zon   E  WP  Zon  WP  \n",
       "PV-aantal   13  14  15   12  10  \n",
       "personen     2   1   2    4   1  \n",
       "\n",
       "[3 rows x 28 columns]"
      ]
     },
     "execution_count": 7,
     "metadata": {},
     "output_type": "execute_result"
    }
   ],
   "source": [
    "df_info.head()"
   ]
  },
  {
   "cell_type": "code",
   "execution_count": 8,
   "metadata": {},
   "outputs": [
    {
     "data": {
      "image/png": "[encoded data removed]",
      "text/plain": [
       "<Figure size 720x720 with 2 Axes>"
      ]
     },
     "metadata": {
      "needs_background": "light"
     },
     "output_type": "display_data"
    }
   ],
   "source": [
    "fig = plt.figure(figsize=(10,10))\n",
    "ax = fig.add_subplot(111)\n",
    "cax = ax.matshow(df.corr())\n",
    "fig.colorbar(cax)\n",
    "\n",
    "plt.title('Correlation Matrix')\n",
    "ax.set_xticks(range(len(df.columns)))\n",
    "ax.set_yticks(range(len(df.columns)))\n",
    "ax.set_xticklabels(labels=df.columns)\n",
    "ax.set_yticklabels(labels=df.columns)\n",
    "\n",
    "plt.show()"
   ]
  },
  {
   "cell_type": "markdown",
   "metadata": {},
   "source": [
    "## K Nearest Implementation (Scaler)"
   ]
  },
  {
   "cell_type": "code",
   "execution_count": 9,
   "metadata": {},
   "outputs": [],
   "source": [
    "from sklearn.preprocessing import StandardScaler, LabelBinarizer\n",
    "from sklearn.pipeline import Pipeline\n",
    "from sklearn.metrics import roc_curve"
   ]
  },
  {
   "cell_type": "code",
   "execution_count": 10,
   "metadata": {},
   "outputs": [],
   "source": [
    "features = ['delivery', 'consumption', 'T', 'SQ', 'Q', 'N']\n",
    "target_feature = 'heating_sys'\n",
    "\n",
    "X = (df[features]-df[features].min())/(df[features].max()-df[features].min())\n",
    "y = df[target_feature]"
   ]
  },
  {
   "cell_type": "code",
   "execution_count": 11,
   "metadata": {},
   "outputs": [
    {
     "data": {
      "text/plain": [
       "Pipeline(memory=None,\n",
       "     steps=[('scaler', StandardScaler(copy=True, with_mean=True, with_std=True)), ('knn', KNeighborsClassifier(algorithm='auto', leaf_size=30, metric='minkowski',\n",
       "           metric_params=None, n_jobs=None, n_neighbors=9, p=1,\n",
       "           weights='distance'))])"
      ]
     },
     "metadata": {},
     "output_type": "display_data"
    },
    {
     "data": {
      "text/plain": [
       "\"Best Params: {'knn__n_neighbors': 9, 'knn__p': 1, 'knn__weights': 'distance'}\""
      ]
     },
     "metadata": {},
     "output_type": "display_data"
    },
    {
     "data": {
      "text/plain": [
       "'Best Score: 0.6644917582417582'"
      ]
     },
     "metadata": {},
     "output_type": "display_data"
    }
   ],
   "source": [
    "steps = [('scaler', StandardScaler()),\n",
    "        ('knn', neighbors.KNeighborsClassifier())]\n",
    "\n",
    "pipeline = Pipeline(steps)\n",
    "\n",
    "param_grid = {'knn__n_neighbors': np.arange(5, 15),\n",
    "              'knn__p': np.arange(1, 3),\n",
    "              'knn__weights':['uniform', 'distance']}\n",
    "\n",
    "knn_reg = GridSearchCV(pipeline, param_grid, cv=5, return_train_score=True)\n",
    "knn_reg.fit(X, y)\n",
    "\n",
    "display(knn_reg.best_estimator_)\n",
    "display('Best Params: ' + str(knn_reg.best_params_))\n",
    "display('Best Score: ' + str(knn_reg.best_score_))"
   ]
  },
  {
   "cell_type": "code",
   "execution_count": 12,
   "metadata": {},
   "outputs": [
    {
     "name": "stdout",
     "output_type": "stream",
     "text": [
      "              precision    recall  f1-score   support\n",
      "\n",
      "           1       0.58      0.47      0.52       200\n",
      "           2       0.65      0.86      0.74       276\n",
      "           3       0.69      0.36      0.47       107\n",
      "\n",
      "   micro avg       0.63      0.63      0.63       583\n",
      "   macro avg       0.64      0.56      0.58       583\n",
      "weighted avg       0.63      0.63      0.62       583\n",
      "\n"
     ]
    }
   ],
   "source": [
    "X_train, X_test, y_train, y_test = train_test_split(X, y, test_size=0.2)\n",
    "\n",
    "knn_reg.fit(X_train, y_train)\n",
    "y_pred = knn_reg.best_estimator_.predict(X_test)\n",
    "\n",
    "print(classification_report(y_test, y_pred))"
   ]
  },
  {
   "cell_type": "code",
   "execution_count": 13,
   "metadata": {},
   "outputs": [
    {
     "data": {
      "text/plain": [
       "Pipeline(memory=None,\n",
       "     steps=[('scaler', StandardScaler(copy=True, with_mean=True, with_std=True)), ('knn', KNeighborsClassifier(algorithm='auto', leaf_size=30, metric='minkowski',\n",
       "           metric_params=None, n_jobs=None, n_neighbors=13, p=2,\n",
       "           weights='distance'))])"
      ]
     },
     "metadata": {},
     "output_type": "display_data"
    },
    {
     "data": {
      "text/plain": [
       "\"Best Params: {'knn__n_neighbors': 13, 'knn__p': 2, 'knn__weights': 'distance'}\""
      ]
     },
     "metadata": {},
     "output_type": "display_data"
    },
    {
     "data": {
      "text/plain": [
       "'Best Score: 0.5597527472527473'"
      ]
     },
     "metadata": {},
     "output_type": "display_data"
    },
    {
     "name": "stdout",
     "output_type": "stream",
     "text": [
      "              precision    recall  f1-score   support\n",
      "\n",
      "           1       0.51      0.60      0.55       179\n",
      "           2       0.52      0.53      0.52       236\n",
      "           3       0.58      0.45      0.51       168\n",
      "\n",
      "   micro avg       0.53      0.53      0.53       583\n",
      "   macro avg       0.54      0.53      0.53       583\n",
      "weighted avg       0.53      0.53      0.53       583\n",
      "\n"
     ]
    }
   ],
   "source": [
    "features = ['delivery', 'consumption', 'T', 'SQ', 'Q', 'N']\n",
    "target_feature = 'sp_group'\n",
    "\n",
    "X = (df[features]-df[features].min())/(df[features].max()-df[features].min())\n",
    "y = df[target_feature]\n",
    "\n",
    "steps = [('scaler', StandardScaler()),\n",
    "        ('knn', neighbors.KNeighborsClassifier())]\n",
    "\n",
    "pipeline = Pipeline(steps)\n",
    "\n",
    "param_grid = {'knn__n_neighbors': np.arange(5, 15),\n",
    "              'knn__p': np.arange(1, 3),\n",
    "              'knn__weights':['uniform', 'distance']}\n",
    "\n",
    "knn_reg = GridSearchCV(pipeline, param_grid, cv=5, return_train_score=True)\n",
    "knn_reg.fit(X, y)\n",
    "\n",
    "display(knn_reg.best_estimator_)\n",
    "display('Best Params: ' + str(knn_reg.best_params_))\n",
    "display('Best Score: ' + str(knn_reg.best_score_))\n",
    "\n",
    "X_train, X_test, y_train, y_test = train_test_split(X, y, test_size=0.2)\n",
    "\n",
    "knn_reg.fit(X_train, y_train)\n",
    "y_pred = knn_reg.best_estimator_.predict(X_test)\n",
    "\n",
    "print(classification_report(y_test, y_pred))"
   ]
  },
  {
   "cell_type": "code",
   "execution_count": 14,
   "metadata": {},
   "outputs": [
    {
     "data": {
      "text/plain": [
       "Pipeline(memory=None,\n",
       "     steps=[('scaler', StandardScaler(copy=True, with_mean=True, with_std=True)), ('knn', KNeighborsClassifier(algorithm='auto', leaf_size=30, metric='minkowski',\n",
       "           metric_params=None, n_jobs=None, n_neighbors=9, p=1,\n",
       "           weights='uniform'))])"
      ]
     },
     "metadata": {},
     "output_type": "display_data"
    },
    {
     "data": {
      "text/plain": [
       "\"Best Params: {'knn__n_neighbors': 9, 'knn__p': 1, 'knn__weights': 'uniform'}\""
      ]
     },
     "metadata": {},
     "output_type": "display_data"
    },
    {
     "data": {
      "text/plain": [
       "'Best Score: 0.4072802197802198'"
      ]
     },
     "metadata": {},
     "output_type": "display_data"
    },
    {
     "name": "stdout",
     "output_type": "stream",
     "text": [
      "              precision    recall  f1-score   support\n",
      "\n",
      "           1       0.31      0.25      0.28       157\n",
      "           2       0.32      0.46      0.38       192\n",
      "           3       0.10      0.02      0.04        43\n",
      "           4       0.31      0.28      0.29       191\n",
      "\n",
      "   micro avg       0.31      0.31      0.31       583\n",
      "   macro avg       0.26      0.25      0.25       583\n",
      "weighted avg       0.30      0.31      0.30       583\n",
      "\n"
     ]
    }
   ],
   "source": [
    "features = ['delivery', 'consumption', 'T', 'SQ', 'Q', 'N']\n",
    "target_feature = 'people'\n",
    "\n",
    "X = (df[features]-df[features].min())/(df[features].max()-df[features].min())\n",
    "y = df[target_feature]\n",
    "\n",
    "steps = [('scaler', StandardScaler()),\n",
    "        ('knn', neighbors.KNeighborsClassifier())]\n",
    "\n",
    "pipeline = Pipeline(steps)\n",
    "\n",
    "param_grid = {'knn__n_neighbors': np.arange(5, 15),\n",
    "              'knn__p': np.arange(1, 3),\n",
    "              'knn__weights':['uniform', 'distance']}\n",
    "\n",
    "knn_reg = GridSearchCV(pipeline, param_grid, cv=5, return_train_score=True)\n",
    "knn_reg.fit(X, y)\n",
    "\n",
    "display(knn_reg.best_estimator_)\n",
    "display('Best Params: ' + str(knn_reg.best_params_))\n",
    "display('Best Score: ' + str(knn_reg.best_score_))\n",
    "\n",
    "X_train, X_test, y_train, y_test = train_test_split(X, y, test_size=0.2)\n",
    "\n",
    "knn_reg.fit(X_train, y_train)\n",
    "y_pred = knn_reg.best_estimator_.predict(X_test)\n",
    "\n",
    "print(classification_report(y_test, y_pred))"
   ]
  },
  {
   "cell_type": "code",
   "execution_count": 17,
   "metadata": {},
   "outputs": [
    {
     "data": {
      "text/plain": [
       "<matplotlib.legend.Legend at 0x7f3c958295f8>"
      ]
     },
     "execution_count": 17,
     "metadata": {},
     "output_type": "execute_result"
    },
    {
     "data": {
      "image/png": "[encoded data removed]",
      "text/plain": [
       "<Figure size 432x288 with 1 Axes>"
      ]
     },
     "metadata": {},
     "output_type": "display_data"
    }
   ],
   "source": [
    "from math import pi\n",
    " \n",
    "# Set data\n",
    "df = pd.DataFrame({\n",
    "'group': ['A','B','C','D'],\n",
    "'var1': [38, 1.5, 30, 4],\n",
    "'var2': [29, 10, 9, 34],\n",
    "'var3': [8, 39, 23, 24],\n",
    "'var4': [7, 31, 33, 14],\n",
    "'var5': [28, 15, 32, 14]\n",
    "})\n",
    " \n",
    " \n",
    " \n",
    "# ------- PART 1: Create background\n",
    " \n",
    "# number of variable\n",
    "categories=list(df)[1:]\n",
    "N = len(categories)\n",
    " \n",
    "# What will be the angle of each axis in the plot? (we divide the plot / number of variable)\n",
    "angles = [n / float(N) * 2 * pi for n in range(N)]\n",
    "angles += angles[:1]\n",
    " \n",
    "# Initialise the spider plot\n",
    "ax = plt.subplot(111, polar=True)\n",
    " \n",
    "# If you want the first axis to be on top:\n",
    "ax.set_theta_offset(pi / 2)\n",
    "ax.set_theta_direction(-1)\n",
    " \n",
    "# Draw one axe per variable + add labels labels yet\n",
    "plt.xticks(angles[:-1], categories)\n",
    " \n",
    "# Draw ylabels\n",
    "ax.set_rlabel_position(0)\n",
    "plt.yticks([10,20,30], [\"10\",\"20\",\"30\"], color=\"grey\", size=7)\n",
    "plt.ylim(0,40)\n",
    " \n",
    " \n",
    "# ------- PART 2: Add plots\n",
    " \n",
    "# Plot each individual = each line of the data\n",
    "# I don't do a loop, because plotting more than 3 groups makes the chart unreadable\n",
    " \n",
    "# Ind1\n",
    "values=df.loc[0].drop('group').values.flatten().tolist()\n",
    "values += values[:1]\n",
    "ax.plot(angles, values, linewidth=1, linestyle='solid', label=\"group A\")\n",
    "ax.fill(angles, values, 'b', alpha=0.1)\n",
    " \n",
    "# Ind2\n",
    "values=df.loc[1].drop('group').values.flatten().tolist()\n",
    "values += values[:1]\n",
    "ax.plot(angles, values, linewidth=1, linestyle='solid', label=\"group B\")\n",
    "ax.fill(angles, values, 'r', alpha=0.1)\n",
    " \n",
    "# Add legend\n",
    "plt.legend(loc='upper right', bbox_to_anchor=(0.1, 0.1))\n"
   ]
  },
  {
   "cell_type": "code",
   "execution_count": null,
   "metadata": {},
   "outputs": [],
   "source": []
  }
 ],
 "metadata": {
  "kernelspec": {
   "display_name": "Python 3",
   "language": "python",
   "name": "python3"
  },
  "language_info": {
   "codemirror_mode": {
    "name": "ipython",
    "version": 3
   },
   "file_extension": ".py",
   "mimetype": "text/x-python",
   "name": "python",
   "nbconvert_exporter": "python",
   "pygments_lexer": "ipython3",
   "version": "3.6.8"
  }
 },
 "nbformat": 4,
 "nbformat_minor": 2
}
