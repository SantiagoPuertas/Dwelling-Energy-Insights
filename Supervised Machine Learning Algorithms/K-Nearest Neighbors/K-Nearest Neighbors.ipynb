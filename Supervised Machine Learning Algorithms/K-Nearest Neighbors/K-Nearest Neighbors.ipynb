{
 "cells": [
  {
   "cell_type": "code",
   "execution_count": 1,
   "metadata": {},
   "outputs": [],
   "source": [
    "# Importing packages for analyzing useses\n",
    "import pandas as pd\n",
    "import numpy as np\n",
    "\n",
    "from sklearn import preprocessing, neighbors\n",
    "from sklearn.model_selection import train_test_split, GridSearchCV\n",
    "from sklearn.metrics import confusion_matrix\n",
    "from sklearn.utils.multiclass import unique_labels\n",
    "from sklearn.metrics import classification_report\n",
    "from sklearn.linear_model import LogisticRegression\n",
    "from sklearn.svm import SVC\n",
    "from sklearn.model_selection import cross_val_score\n",
    "\n",
    "import seaborn as sns\n",
    "from pylab import rcParams\n",
    "import matplotlib.pyplot as plt\n",
    "from matplotlib.colors import ListedColormap\n",
    "\n",
    "from numpy.linalg import *\n",
    "import math\n",
    "from datetime import datetime\n",
    "from datetime import timedelta"
   ]
  },
  {
   "cell_type": "code",
   "execution_count": 2,
   "metadata": {},
   "outputs": [
    {
     "data": {
      "text/html": [
       "<div>\n",
       "<style scoped>\n",
       "    .dataframe tbody tr th:only-of-type {\n",
       "        vertical-align: middle;\n",
       "    }\n",
       "\n",
       "    .dataframe tbody tr th {\n",
       "        vertical-align: top;\n",
       "    }\n",
       "\n",
       "    .dataframe thead th {\n",
       "        text-align: right;\n",
       "    }\n",
       "</style>\n",
       "<table border=\"1\" class=\"dataframe\">\n",
       "  <thead>\n",
       "    <tr style=\"text-align: right;\">\n",
       "      <th></th>\n",
       "      <th>H01</th>\n",
       "      <th>H02</th>\n",
       "      <th>H03</th>\n",
       "      <th>H04</th>\n",
       "      <th>H06</th>\n",
       "      <th>H07</th>\n",
       "      <th>H08</th>\n",
       "      <th>H09</th>\n",
       "      <th>H11</th>\n",
       "      <th>H13</th>\n",
       "      <th>...</th>\n",
       "      <th>H27</th>\n",
       "      <th>H28</th>\n",
       "      <th>H29</th>\n",
       "      <th>H31</th>\n",
       "      <th>H32</th>\n",
       "      <th>H33</th>\n",
       "      <th>T</th>\n",
       "      <th>SQ</th>\n",
       "      <th>Q</th>\n",
       "      <th>N</th>\n",
       "    </tr>\n",
       "  </thead>\n",
       "  <tbody>\n",
       "    <tr>\n",
       "      <th>2017-09-12 00:15:00</th>\n",
       "      <td>0.0</td>\n",
       "      <td>0.0</td>\n",
       "      <td>0.0</td>\n",
       "      <td>0.0</td>\n",
       "      <td>0.0</td>\n",
       "      <td>0.0</td>\n",
       "      <td>0.0</td>\n",
       "      <td>0.0</td>\n",
       "      <td>0.0</td>\n",
       "      <td>0.0</td>\n",
       "      <td>...</td>\n",
       "      <td>0.0</td>\n",
       "      <td>0.0</td>\n",
       "      <td>0.0</td>\n",
       "      <td>0.0</td>\n",
       "      <td>0.0</td>\n",
       "      <td>0.0</td>\n",
       "      <td>14.8</td>\n",
       "      <td>0.0</td>\n",
       "      <td>0.0</td>\n",
       "      <td>7.0</td>\n",
       "    </tr>\n",
       "    <tr>\n",
       "      <th>2017-09-12 00:30:00</th>\n",
       "      <td>0.0</td>\n",
       "      <td>0.0</td>\n",
       "      <td>0.0</td>\n",
       "      <td>0.0</td>\n",
       "      <td>0.0</td>\n",
       "      <td>0.0</td>\n",
       "      <td>0.0</td>\n",
       "      <td>0.0</td>\n",
       "      <td>0.0</td>\n",
       "      <td>0.0</td>\n",
       "      <td>...</td>\n",
       "      <td>0.0</td>\n",
       "      <td>0.0</td>\n",
       "      <td>0.0</td>\n",
       "      <td>0.0</td>\n",
       "      <td>0.0</td>\n",
       "      <td>0.0</td>\n",
       "      <td>14.8</td>\n",
       "      <td>0.0</td>\n",
       "      <td>0.0</td>\n",
       "      <td>7.0</td>\n",
       "    </tr>\n",
       "  </tbody>\n",
       "</table>\n",
       "<p>2 rows × 32 columns</p>\n",
       "</div>"
      ],
      "text/plain": [
       "                     H01  H02  H03  H04  H06  H07  H08  H09  H11  H13  ...  \\\n",
       "2017-09-12 00:15:00  0.0  0.0  0.0  0.0  0.0  0.0  0.0  0.0  0.0  0.0  ...   \n",
       "2017-09-12 00:30:00  0.0  0.0  0.0  0.0  0.0  0.0  0.0  0.0  0.0  0.0  ...   \n",
       "\n",
       "                     H27  H28  H29  H31  H32  H33     T   SQ    Q    N  \n",
       "2017-09-12 00:15:00  0.0  0.0  0.0  0.0  0.0  0.0  14.8  0.0  0.0  7.0  \n",
       "2017-09-12 00:30:00  0.0  0.0  0.0  0.0  0.0  0.0  14.8  0.0  0.0  7.0  \n",
       "\n",
       "[2 rows x 32 columns]"
      ]
     },
     "metadata": {},
     "output_type": "display_data"
    },
    {
     "data": {
      "text/plain": [
       "(54745, 32)"
      ]
     },
     "metadata": {},
     "output_type": "display_data"
    },
    {
     "data": {
      "text/html": [
       "<div>\n",
       "<style scoped>\n",
       "    .dataframe tbody tr th:only-of-type {\n",
       "        vertical-align: middle;\n",
       "    }\n",
       "\n",
       "    .dataframe tbody tr th {\n",
       "        vertical-align: top;\n",
       "    }\n",
       "\n",
       "    .dataframe thead th {\n",
       "        text-align: right;\n",
       "    }\n",
       "</style>\n",
       "<table border=\"1\" class=\"dataframe\">\n",
       "  <thead>\n",
       "    <tr style=\"text-align: right;\">\n",
       "      <th></th>\n",
       "      <th>H01</th>\n",
       "      <th>H02</th>\n",
       "      <th>H03</th>\n",
       "      <th>H04</th>\n",
       "      <th>H06</th>\n",
       "      <th>H07</th>\n",
       "      <th>H08</th>\n",
       "      <th>H09</th>\n",
       "      <th>H11</th>\n",
       "      <th>H13</th>\n",
       "      <th>...</th>\n",
       "      <th>H27</th>\n",
       "      <th>H28</th>\n",
       "      <th>H29</th>\n",
       "      <th>H31</th>\n",
       "      <th>H32</th>\n",
       "      <th>H33</th>\n",
       "      <th>T</th>\n",
       "      <th>SQ</th>\n",
       "      <th>Q</th>\n",
       "      <th>N</th>\n",
       "    </tr>\n",
       "  </thead>\n",
       "  <tbody>\n",
       "    <tr>\n",
       "      <th>2017-09-12 00:15:00</th>\n",
       "      <td>0.031</td>\n",
       "      <td>0.048</td>\n",
       "      <td>0.027</td>\n",
       "      <td>0.017</td>\n",
       "      <td>0.074</td>\n",
       "      <td>0.012</td>\n",
       "      <td>0.023</td>\n",
       "      <td>0.055</td>\n",
       "      <td>0.075</td>\n",
       "      <td>0.131</td>\n",
       "      <td>...</td>\n",
       "      <td>0.096</td>\n",
       "      <td>0.025</td>\n",
       "      <td>0.024</td>\n",
       "      <td>0.299</td>\n",
       "      <td>0.027</td>\n",
       "      <td>0.022</td>\n",
       "      <td>14.8</td>\n",
       "      <td>0.0</td>\n",
       "      <td>0.0</td>\n",
       "      <td>7.0</td>\n",
       "    </tr>\n",
       "    <tr>\n",
       "      <th>2017-09-12 00:30:00</th>\n",
       "      <td>0.037</td>\n",
       "      <td>0.023</td>\n",
       "      <td>0.034</td>\n",
       "      <td>0.015</td>\n",
       "      <td>0.069</td>\n",
       "      <td>0.024</td>\n",
       "      <td>0.020</td>\n",
       "      <td>0.036</td>\n",
       "      <td>0.071</td>\n",
       "      <td>0.088</td>\n",
       "      <td>...</td>\n",
       "      <td>0.152</td>\n",
       "      <td>0.018</td>\n",
       "      <td>0.028</td>\n",
       "      <td>0.325</td>\n",
       "      <td>0.021</td>\n",
       "      <td>0.042</td>\n",
       "      <td>14.8</td>\n",
       "      <td>0.0</td>\n",
       "      <td>0.0</td>\n",
       "      <td>7.0</td>\n",
       "    </tr>\n",
       "  </tbody>\n",
       "</table>\n",
       "<p>2 rows × 32 columns</p>\n",
       "</div>"
      ],
      "text/plain": [
       "                       H01    H02    H03    H04    H06    H07    H08    H09  \\\n",
       "2017-09-12 00:15:00  0.031  0.048  0.027  0.017  0.074  0.012  0.023  0.055   \n",
       "2017-09-12 00:30:00  0.037  0.023  0.034  0.015  0.069  0.024  0.020  0.036   \n",
       "\n",
       "                       H11    H13  ...    H27    H28    H29    H31    H32  \\\n",
       "2017-09-12 00:15:00  0.075  0.131  ...  0.096  0.025  0.024  0.299  0.027   \n",
       "2017-09-12 00:30:00  0.071  0.088  ...  0.152  0.018  0.028  0.325  0.021   \n",
       "\n",
       "                       H33     T   SQ    Q    N  \n",
       "2017-09-12 00:15:00  0.022  14.8  0.0  0.0  7.0  \n",
       "2017-09-12 00:30:00  0.042  14.8  0.0  0.0  7.0  \n",
       "\n",
       "[2 rows x 32 columns]"
      ]
     },
     "metadata": {},
     "output_type": "display_data"
    },
    {
     "data": {
      "text/plain": [
       "(54745, 32)"
      ]
     },
     "metadata": {},
     "output_type": "display_data"
    }
   ],
   "source": [
    "# Import the data and making a dataframe out of it\n",
    "df_deli = pd.read_csv('../Data/Delivery.csv')\n",
    "df_cons = pd.read_csv('../Data/Consumption.csv')\n",
    "df_info = pd.read_csv('../Data/Information.csv')\n",
    "df_weather = pd.read_csv('../../Data/KNMI_Voorschoten_20170711_20190601.csv')\n",
    "\n",
    "# Setting indexes\n",
    "df_deli.set_index('ID-nummer',inplace=True)\n",
    "df_deli.index = pd.to_datetime(df_deli.index)\n",
    "df_deli.index.names = ['date']\n",
    "\n",
    "df_cons.set_index('ID-nummer',inplace=True)\n",
    "df_cons.index = pd.to_datetime(df_cons.index)\n",
    "df_cons.index.names = ['date']\n",
    "\n",
    "df_info.set_index('ID-nummer',inplace=True)\n",
    "df_info.index.names = ['date']\n",
    "\n",
    "df_weather.set_index('Date_and_time',inplace=True)\n",
    "df_weather = df_weather.loc['2017-09-12':'2019-06-01 00:00:00']\n",
    "df_weather.index = pd.to_datetime(df_weather.index)\n",
    "df_weather.index.names = ['date']\n",
    "df_weather = df_weather.apply(pd.to_numeric)\n",
    "\n",
    "# Creating first row to datasets\n",
    "top_row = [0 for col in df_deli.columns]\n",
    "df_top_row = pd.DataFrame(top_row).transpose()\n",
    "\n",
    "s_top_row = pd.Series([pd.to_datetime('2017-09-12 00:00:00')])\n",
    "df_top_row.set_index(s_top_row, inplace=True)\n",
    "df_top_row.columns = df_deli.columns\n",
    "\n",
    "# Adding first row to the datasets\n",
    "df_deli = pd.concat([df_top_row, df_deli])\n",
    "df_cons = pd.concat([df_top_row, df_cons])\n",
    "\n",
    "# Joining datasets\n",
    "df_deli = df_deli.join(df_weather)\n",
    "df_cons = df_cons.join(df_weather)\n",
    "\n",
    "# Filling NaN temperature values with the previous ones\n",
    "df_deli.fillna(method='ffill', inplace=True)\n",
    "df_cons.fillna(method='ffill', inplace=True)\n",
    "\n",
    "# Deleting first row (dummy row)\n",
    "df_deli = df_deli.iloc[1:]\n",
    "df_cons = df_cons.iloc[1:]\n",
    "\n",
    "display(df_deli.head(2))\n",
    "display(df_deli.shape)\n",
    "display(df_cons.head(2))\n",
    "display(df_cons.shape)"
   ]
  },
  {
   "cell_type": "markdown",
   "metadata": {},
   "source": [
    "## Balancing the dataset out"
   ]
  },
  {
   "cell_type": "code",
   "execution_count": 3,
   "metadata": {},
   "outputs": [
    {
     "data": {
      "text/plain": [
       "WP     13\n",
       "E      10\n",
       "Zon     5\n",
       "Name: concept, dtype: int64"
      ]
     },
     "execution_count": 3,
     "metadata": {},
     "output_type": "execute_result"
    }
   ],
   "source": [
    "df_info.transpose()['concept'].value_counts()"
   ]
  },
  {
   "cell_type": "code",
   "execution_count": 4,
   "metadata": {},
   "outputs": [
    {
     "data": {
      "text/plain": [
       "\"df_deli = df_deli[['H01','H02','H06','H15','H29','H03','H04','H11','H23','H27','H20','H22','H25','H28','H32','T','SQ','Q','N']]\\ndf_cons = df_cons[['H01','H02','H06','H15','H29','H03','H04','H11','H23','H27','H20','H22','H25','H28','H32','T','SQ','Q','N']]\\ndf_info = df_info[['H01','H02','H06','H15','H29','H03','H04','H11','H23','H27','H20','H22','H25','H28','H32']]\""
      ]
     },
     "execution_count": 4,
     "metadata": {},
     "output_type": "execute_result"
    }
   ],
   "source": [
    "'''df_deli = df_deli[['H01','H02','H06','H15','H29','H03','H04','H11','H23','H27','H20','H22','H25','H28','H32','T','SQ','Q','N']]\n",
    "df_cons = df_cons[['H01','H02','H06','H15','H29','H03','H04','H11','H23','H27','H20','H22','H25','H28','H32','T','SQ','Q','N']]\n",
    "df_info = df_info[['H01','H02','H06','H15','H29','H03','H04','H11','H23','H27','H20','H22','H25','H28','H32']]'''"
   ]
  },
  {
   "cell_type": "code",
   "execution_count": 5,
   "metadata": {},
   "outputs": [],
   "source": [
    "df_deli = df_deli.groupby([df_deli.index.year, df_deli.index.month, df_deli.index.week]).agg({'H01':'sum',\n",
    "                                                   'H02':'sum',\n",
    "                                                   'H03':'sum',\n",
    "                                                   'H04':'sum',\n",
    "                                                   'H06':'sum',\n",
    "                                                   'H07':'sum',\n",
    "                                                   'H08':'sum',\n",
    "                                                   'H09':'sum',\n",
    "                                                   'H11':'sum',\n",
    "                                                   'H13':'sum',\n",
    "                                                   'H15':'sum',\n",
    "                                                   'H16':'sum',\n",
    "                                                   'H17':'sum',\n",
    "                                                   'H18':'sum',\n",
    "                                                   'H19':'sum',\n",
    "                                                   'H20':'sum',\n",
    "                                                   'H21':'sum',\n",
    "                                                   'H22':'sum',\n",
    "                                                   'H23':'sum',\n",
    "                                                   'H24':'sum',\n",
    "                                                   'H25':'sum',\n",
    "                                                   'H26':'sum',\n",
    "                                                   'H27':'sum',\n",
    "                                                   'H28':'sum',\n",
    "                                                   'H29':'sum',\n",
    "                                                   'H31':'sum',\n",
    "                                                   'H32':'sum',\n",
    "                                                   'H33':'sum',\n",
    "                                                   'T':'mean',\n",
    "                                                   'SQ':'mean',\n",
    "                                                   'Q':'mean',\n",
    "                                                   'N':'mean',\n",
    "                                                  })\n",
    "df_cons = df_cons.groupby([df_cons.index.year, df_cons.index.month, df_cons.index.week]).agg({'H01':'sum',\n",
    "                                                   'H02':'sum',\n",
    "                                                   'H03':'sum',\n",
    "                                                   'H04':'sum',\n",
    "                                                   'H06':'sum',\n",
    "                                                   'H07':'sum',\n",
    "                                                   'H08':'sum',\n",
    "                                                   'H09':'sum',\n",
    "                                                   'H11':'sum',\n",
    "                                                   'H13':'sum',\n",
    "                                                   'H15':'sum',\n",
    "                                                   'H16':'sum',\n",
    "                                                   'H17':'sum',\n",
    "                                                   'H18':'sum',\n",
    "                                                   'H19':'sum',\n",
    "                                                   'H20':'sum',\n",
    "                                                   'H21':'sum',\n",
    "                                                   'H22':'sum',\n",
    "                                                   'H23':'sum',\n",
    "                                                   'H24':'sum',\n",
    "                                                   'H25':'sum',\n",
    "                                                   'H26':'sum',\n",
    "                                                   'H27':'sum',\n",
    "                                                   'H28':'sum',\n",
    "                                                   'H29':'sum',\n",
    "                                                   'H31':'sum',\n",
    "                                                   'H32':'sum',\n",
    "                                                   'H33':'sum',\n",
    "                                                   'T':'mean',\n",
    "                                                   'SQ':'mean',\n",
    "                                                   'Q':'mean',\n",
    "                                                   'N':'mean',\n",
    "                                                  })"
   ]
  },
  {
   "cell_type": "markdown",
   "metadata": {},
   "source": [
    "## Dummy Variables"
   ]
  },
  {
   "cell_type": "code",
   "execution_count": 6,
   "metadata": {},
   "outputs": [
    {
     "name": "stdout",
     "output_type": "stream",
     "text": [
      "['E' 'WP' 'Zon']\n",
      "(2912, 10) 2912\n"
     ]
    },
    {
     "data": {
      "text/html": [
       "<div>\n",
       "<style scoped>\n",
       "    .dataframe tbody tr th:only-of-type {\n",
       "        vertical-align: middle;\n",
       "    }\n",
       "\n",
       "    .dataframe tbody tr th {\n",
       "        vertical-align: top;\n",
       "    }\n",
       "\n",
       "    .dataframe thead th {\n",
       "        text-align: right;\n",
       "    }\n",
       "</style>\n",
       "<table border=\"1\" class=\"dataframe\">\n",
       "  <thead>\n",
       "    <tr style=\"text-align: right;\">\n",
       "      <th></th>\n",
       "      <th>delivery</th>\n",
       "      <th>consumption</th>\n",
       "      <th>T</th>\n",
       "      <th>SQ</th>\n",
       "      <th>Q</th>\n",
       "      <th>N</th>\n",
       "      <th>heating_sys</th>\n",
       "      <th>sys_E</th>\n",
       "      <th>sys_WP</th>\n",
       "      <th>sys_Zon</th>\n",
       "    </tr>\n",
       "  </thead>\n",
       "  <tbody>\n",
       "    <tr>\n",
       "      <th>0</th>\n",
       "      <td>55.321</td>\n",
       "      <td>41.008</td>\n",
       "      <td>13.008729</td>\n",
       "      <td>2.314991</td>\n",
       "      <td>44.584440</td>\n",
       "      <td>6.529412</td>\n",
       "      <td>1</td>\n",
       "      <td>1</td>\n",
       "      <td>0</td>\n",
       "      <td>0</td>\n",
       "    </tr>\n",
       "    <tr>\n",
       "      <th>1</th>\n",
       "      <td>85.880</td>\n",
       "      <td>54.068</td>\n",
       "      <td>12.614158</td>\n",
       "      <td>3.031297</td>\n",
       "      <td>51.606557</td>\n",
       "      <td>5.323398</td>\n",
       "      <td>1</td>\n",
       "      <td>1</td>\n",
       "      <td>0</td>\n",
       "      <td>0</td>\n",
       "    </tr>\n",
       "    <tr>\n",
       "      <th>2</th>\n",
       "      <td>43.201</td>\n",
       "      <td>41.659</td>\n",
       "      <td>14.022371</td>\n",
       "      <td>1.208413</td>\n",
       "      <td>31.977055</td>\n",
       "      <td>6.386233</td>\n",
       "      <td>1</td>\n",
       "      <td>1</td>\n",
       "      <td>0</td>\n",
       "      <td>0</td>\n",
       "    </tr>\n",
       "    <tr>\n",
       "      <th>3</th>\n",
       "      <td>5.711</td>\n",
       "      <td>11.680</td>\n",
       "      <td>14.200000</td>\n",
       "      <td>0.958333</td>\n",
       "      <td>26.666667</td>\n",
       "      <td>7.166667</td>\n",
       "      <td>1</td>\n",
       "      <td>1</td>\n",
       "      <td>0</td>\n",
       "      <td>0</td>\n",
       "    </tr>\n",
       "    <tr>\n",
       "      <th>4</th>\n",
       "      <td>40.955</td>\n",
       "      <td>53.301</td>\n",
       "      <td>13.708333</td>\n",
       "      <td>1.562500</td>\n",
       "      <td>30.562500</td>\n",
       "      <td>7.152778</td>\n",
       "      <td>1</td>\n",
       "      <td>1</td>\n",
       "      <td>0</td>\n",
       "      <td>0</td>\n",
       "    </tr>\n",
       "  </tbody>\n",
       "</table>\n",
       "</div>"
      ],
      "text/plain": [
       "   delivery  consumption          T        SQ          Q         N  \\\n",
       "0    55.321       41.008  13.008729  2.314991  44.584440  6.529412   \n",
       "1    85.880       54.068  12.614158  3.031297  51.606557  5.323398   \n",
       "2    43.201       41.659  14.022371  1.208413  31.977055  6.386233   \n",
       "3     5.711       11.680  14.200000  0.958333  26.666667  7.166667   \n",
       "4    40.955       53.301  13.708333  1.562500  30.562500  7.152778   \n",
       "\n",
       "   heating_sys  sys_E  sys_WP  sys_Zon  \n",
       "0            1      1       0        0  \n",
       "1            1      1       0        0  \n",
       "2            1      1       0        0  \n",
       "3            1      1       0        0  \n",
       "4            1      1       0        0  "
      ]
     },
     "metadata": {},
     "output_type": "display_data"
    },
    {
     "data": {
      "text/plain": [
       "(2912, 10)"
      ]
     },
     "metadata": {},
     "output_type": "display_data"
    }
   ],
   "source": [
    "# Setting different columns (delivery, consumption, houses_info, dummy_variables)\n",
    "df = pd.DataFrame(columns=['delivery','consumption', 'T', 'SQ', 'Q', 'N', 'heating_sys'])\n",
    "\n",
    "num_houses_cols = len(df_deli.columns) - 4\n",
    "# Preparing the delivery and consumption arrays\n",
    "ar_deli = np.array([])\n",
    "ar_cons = np.array([])\n",
    "for col in range(num_houses_cols):\n",
    "    ar_deli = np.append(ar_deli, df_deli.values[:, col])\n",
    "    ar_cons = np.append(ar_cons, df_cons.values[:, col])\n",
    "\n",
    "# Preparing the houses information arrays\n",
    "ar_heatSystem = np.array([])\n",
    "for col in df_info.columns:\n",
    "    ar_heatSystem = np.append(ar_heatSystem, (df_info.loc[['concept'], [col]].values[0].tolist() * df_deli.shape[0]))\n",
    "\n",
    "# Inserting the data to the dataframe\n",
    "df['delivery'] = pd.Series(ar_deli)\n",
    "df['consumption'] = pd.Series(ar_cons)\n",
    "\n",
    "df['T'] = df_deli['T'].values.tolist() * num_houses_cols\n",
    "df['SQ'] = df_deli['SQ'].values.tolist() * num_houses_cols\n",
    "df['Q'] = df_deli['Q'].values.tolist() * num_houses_cols\n",
    "df['N'] = df_deli['N'].values.tolist() * num_houses_cols\n",
    "\n",
    "df['heating_sys'] = pd.Series(ar_heatSystem)\n",
    "\n",
    "# Dummy variables\n",
    "dummy_sys = pd.get_dummies(df['heating_sys'], prefix='sys')\n",
    "df = pd.concat([df, dummy_sys], axis=1)\n",
    "\n",
    "print(df['heating_sys'].unique())\n",
    "print(df.shape, len(ar_heatSystem))\n",
    "\n",
    "# Replacing heating system type by numbers\n",
    "df.replace('E', 1, inplace=True)\n",
    "df.replace('WP', 2, inplace=True)\n",
    "df.replace('Zon', 3, inplace=True)\n",
    "\n",
    "display(df.head())\n",
    "display(df.shape)"
   ]
  },
  {
   "cell_type": "code",
   "execution_count": 7,
   "metadata": {},
   "outputs": [
    {
     "data": {
      "image/png": "[encoded data removed]",
      "text/plain": [
       "<Figure size 720x720 with 2 Axes>"
      ]
     },
     "metadata": {
      "needs_background": "light"
     },
     "output_type": "display_data"
    }
   ],
   "source": [
    "fig = plt.figure(figsize=(10,10))\n",
    "ax = fig.add_subplot(111)\n",
    "cax = ax.matshow(df.corr())\n",
    "fig.colorbar(cax)\n",
    "\n",
    "plt.title('Correlation Matrix')\n",
    "ax.set_xticks(range(len(df.columns)))\n",
    "ax.set_yticks(range(len(df.columns)))\n",
    "ax.set_xticklabels(labels=df.columns)\n",
    "ax.set_yticklabels(labels=df.columns)\n",
    "\n",
    "plt.show()"
   ]
  },
  {
   "cell_type": "markdown",
   "metadata": {},
   "source": [
    "## K Nearest Implementation (Scaler)"
   ]
  },
  {
   "cell_type": "code",
   "execution_count": 8,
   "metadata": {},
   "outputs": [],
   "source": [
    "from sklearn.preprocessing import StandardScaler, LabelBinarizer\n",
    "from sklearn.pipeline import Pipeline\n",
    "from sklearn.metrics import roc_curve"
   ]
  },
  {
   "cell_type": "code",
   "execution_count": 9,
   "metadata": {},
   "outputs": [],
   "source": [
    "features = ['delivery', 'consumption', 'T', 'SQ', 'Q', 'N']\n",
    "target_feature = 'heating_sys'\n",
    "\n",
    "X = (df[features]-df[features].min())/(df[features].max()-df[features].min())\n",
    "y = df[target_feature]"
   ]
  },
  {
   "cell_type": "code",
   "execution_count": 10,
   "metadata": {},
   "outputs": [
    {
     "data": {
      "text/plain": [
       "Pipeline(memory=None,\n",
       "     steps=[('scaler', StandardScaler(copy=True, with_mean=True, with_std=True)), ('knn', KNeighborsClassifier(algorithm='auto', leaf_size=30, metric='minkowski',\n",
       "           metric_params=None, n_jobs=None, n_neighbors=9, p=1,\n",
       "           weights='distance'))])"
      ]
     },
     "metadata": {},
     "output_type": "display_data"
    },
    {
     "data": {
      "text/plain": [
       "\"Best Params: {'knn__n_neighbors': 9, 'knn__p': 1, 'knn__weights': 'distance'}\""
      ]
     },
     "metadata": {},
     "output_type": "display_data"
    },
    {
     "data": {
      "text/plain": [
       "'Best Score: 0.6644917582417582'"
      ]
     },
     "metadata": {},
     "output_type": "display_data"
    }
   ],
   "source": [
    "steps = [('scaler', StandardScaler()),\n",
    "        ('knn', neighbors.KNeighborsClassifier())]\n",
    "\n",
    "pipeline = Pipeline(steps)\n",
    "\n",
    "param_grid = {'knn__n_neighbors': np.arange(5, 15),\n",
    "              'knn__p': np.arange(1, 3),\n",
    "              'knn__weights':['uniform', 'distance']}\n",
    "\n",
    "knn_reg = GridSearchCV(pipeline, param_grid, cv=5, return_train_score=True)\n",
    "knn_reg.fit(X, y)\n",
    "\n",
    "display(knn_reg.best_estimator_)\n",
    "display('Best Params: ' + str(knn_reg.best_params_))\n",
    "display('Best Score: ' + str(knn_reg.best_score_))"
   ]
  },
  {
   "cell_type": "code",
   "execution_count": 13,
   "metadata": {},
   "outputs": [
    {
     "name": "stdout",
     "output_type": "stream",
     "text": [
      "              precision    recall  f1-score   support\n",
      "\n",
      "           1       0.55      0.56      0.55       189\n",
      "           2       0.71      0.81      0.76       288\n",
      "           3       0.56      0.33      0.41       106\n",
      "\n",
      "   micro avg       0.64      0.64      0.64       583\n",
      "   macro avg       0.61      0.57      0.58       583\n",
      "weighted avg       0.63      0.64      0.63       583\n",
      "\n"
     ]
    }
   ],
   "source": [
    "X_train, X_test, y_train, y_test = train_test_split(X, y, test_size=0.2)\n",
    "\n",
    "knn_reg.fit(X_train, y_train)\n",
    "y_pred = knn_reg.best_estimator_.predict(X_test)\n",
    "\n",
    "print(classification_report(y_test, y_pred))"
   ]
  },
  {
   "cell_type": "code",
   "execution_count": null,
   "metadata": {},
   "outputs": [],
   "source": []
  }
 ],
 "metadata": {
  "kernelspec": {
   "display_name": "Python 3",
   "language": "python",
   "name": "python3"
  },
  "language_info": {
   "codemirror_mode": {
    "name": "ipython",
    "version": 3
   },
   "file_extension": ".py",
   "mimetype": "text/x-python",
   "name": "python",
   "nbconvert_exporter": "python",
   "pygments_lexer": "ipython3",
   "version": "3.6.8"
  }
 },
 "nbformat": 4,
 "nbformat_minor": 2
}
